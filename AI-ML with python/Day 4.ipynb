{
 "cells": [
  {
   "cell_type": "code",
   "execution_count": 48,
   "metadata": {},
   "outputs": [
    {
     "name": "stdout",
     "output_type": "stream",
     "text": [
      "[12, 4, 5, 10, 20, 30, 2, 13, 30, 15]\n",
      "12 square of that number minus 2\n",
      "4 square of that number minus 2\n",
      "5 nothing\n",
      "10 square of that number minus 2\n",
      "20 square of that number minus 2\n",
      "30 square of that number minus 2\n",
      "2 square of that number minus 2\n",
      "13 nothing\n",
      "30 square of that number minus 2\n",
      "15 nothing\n"
     ]
    }
   ],
   "source": [
    "# question 4 \n",
    "# list of 10 elements , print all the elements in the list which are greater than 7 when that number is divided by 2\n",
    "a=[12,4,5,10,20,30,2,13,30,15]\n",
    "print(a)\n",
    "length=len(a)\n",
    "\n",
    "for i in range(length):\n",
    "    if a[i]%2==0:\n",
    "        print(a[i],\"square of that number minus 2\")\n",
    "    else: print(a[i],\"nothing\")\n",
    "\n"
   ]
  },
  {
   "cell_type": "code",
   "execution_count": 14,
   "metadata": {},
   "outputs": [
    {
     "name": "stdout",
     "output_type": "stream",
     "text": [
      "(30+20j)\n",
      "(10+0j)\n",
      "(1.5-0.5j)\n",
      "(100+300j)\n"
     ]
    }
   ],
   "source": [
    "# question 1 \n",
    " # floor division and modulus are not supported in python 3\n",
    "    \n",
    "a=20+10j\n",
    "b=10+10j \n",
    "print(a+b)\n",
    "print(a-b)\n",
    "print(a/b)\n",
    "print(a*b)\n",
    "\n"
   ]
  },
  {
   "cell_type": "markdown",
   "metadata": {},
   "source": [
    "# question 2\n",
    "range is a in built function in python \n",
    "range function is used in looping (for loop)\n",
    "range(start_value,last_value,step_size)\n",
    "\n"
   ]
  },
  {
   "cell_type": "code",
   "execution_count": 15,
   "metadata": {},
   "outputs": [
    {
     "name": "stdout",
     "output_type": "stream",
     "text": [
      "1\n",
      "2\n",
      "3\n",
      "4\n",
      "5\n",
      "6\n",
      "7\n",
      "8\n",
      "9\n",
      "10\n"
     ]
    }
   ],
   "source": [
    "#question 2\n",
    "for i in range(1,11):\n",
    "    print(i)"
   ]
  },
  {
   "cell_type": "code",
   "execution_count": 17,
   "metadata": {},
   "outputs": [
    {
     "name": "stdout",
     "output_type": "stream",
     "text": [
      "1\n",
      "3\n",
      "5\n",
      "7\n",
      "9\n"
     ]
    }
   ],
   "source": [
    "#question 2\n",
    "for i in range(1,11,2):\n",
    "    print(i)"
   ]
  },
  {
   "cell_type": "code",
   "execution_count": 18,
   "metadata": {},
   "outputs": [
    {
     "name": "stdout",
     "output_type": "stream",
     "text": [
      "0\n",
      "2\n",
      "4\n",
      "6\n",
      "8\n",
      "10\n"
     ]
    }
   ],
   "source": [
    "#question 2\n",
    "for i in range(0,11,2):\n",
    "    print(i)"
   ]
  },
  {
   "cell_type": "code",
   "execution_count": 22,
   "metadata": {},
   "outputs": [
    {
     "name": "stdout",
     "output_type": "stream",
     "text": [
      "11\n",
      "9\n",
      "7\n",
      "5\n"
     ]
    }
   ],
   "source": [
    "#question 2\n",
    "for i in range(11,4,-2):\n",
    "    print(i)"
   ]
  },
  {
   "cell_type": "code",
   "execution_count": 9,
   "metadata": {},
   "outputs": [
    {
     "name": "stdout",
     "output_type": "stream",
     "text": [
      "400\n"
     ]
    }
   ],
   "source": [
    "# Question 3\n",
    "\n",
    "a=10\n",
    "b=40\n",
    "if (b-a) > 25 :\n",
    "    print(b*a)\n",
    "else :\n",
    "    print(b/a)"
   ]
  },
  {
   "cell_type": "code",
   "execution_count": 51,
   "metadata": {},
   "outputs": [
    {
     "name": "stdout",
     "output_type": "stream",
     "text": [
      "10\n",
      "20\n",
      "30\n",
      "9 not divible by 2\n",
      "50\n",
      "1 not grater than 7\n",
      "5 not grater than 7\n",
      "20\n",
      "60\n",
      "4 not grater than 7\n"
     ]
    }
   ],
   "source": [
    "# Question 5\n",
    "\n",
    "l=[10,20,30,9,50,1,5,20,60,4]\n",
    "length=len(l)\n",
    "for i in range(length):\n",
    "    if l[i]>7:\n",
    "        if l[i]%2==0:\n",
    "            print(l[i])\n",
    "        else: print(l[i],\"not divible by 2\")\n",
    "    else:print(l[i],\"not grater than 7\")"
   ]
  },
  {
   "cell_type": "code",
   "execution_count": null,
   "metadata": {},
   "outputs": [],
   "source": []
  }
 ],
 "metadata": {
  "kernelspec": {
   "display_name": "Python 3",
   "language": "python",
   "name": "python3"
  },
  "language_info": {
   "codemirror_mode": {
    "name": "ipython",
    "version": 3
   },
   "file_extension": ".py",
   "mimetype": "text/x-python",
   "name": "python",
   "nbconvert_exporter": "python",
   "pygments_lexer": "ipython3",
   "version": "3.7.6"
  }
 },
 "nbformat": 4,
 "nbformat_minor": 4
}
