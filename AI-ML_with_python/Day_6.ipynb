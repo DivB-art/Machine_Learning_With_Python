{
 "cells": [
  {
   "cell_type": "code",
   "execution_count": null,
   "metadata": {},
   "outputs": [],
   "source": [
    "\n"
   ]
  },
  {
   "cell_type": "code",
   "execution_count": 62,
   "metadata": {},
   "outputs": [
    {
     "name": "stdout",
     "output_type": "stream",
     "text": [
      "['bag', 'hello', 'without', 'world']\n"
     ]
    }
   ],
   "source": [
    "# question 2\n",
    "\n",
    "list2=[\"without\",\"hello\",\"bag\",\"world\"]\n",
    "list2.sort()\n",
    "print(list2)\n",
    "\n"
   ]
  },
  {
   "cell_type": "code",
   "execution_count": 48,
   "metadata": {},
   "outputs": [
    {
     "name": "stdout",
     "output_type": "stream",
     "text": [
      "{2, 3, 4, 5, 6, 7, 9, 13, 48}\n",
      "{33, 34, 42, 45, 13, 48, 22}\n",
      "{33, 34, 42, 45, 13, 48, 49, 22}\n",
      "{34, 42, 45, 13, 48, 49, 22}\n",
      "{42, 45, 13, 48, 49, 22}\n",
      "{42, 45, 13, 48, 22}\n",
      "{42, 45, 13, 48, 22}\n"
     ]
    }
   ],
   "source": [
    "# question 3\n",
    "s={13,2,3,4,5,6,48,9,3,4,5,6,7}\n",
    "print(s) # removes duplicates \n",
    "\n",
    "s1={45,34,48,22,33,42,13}\n",
    "print(s1) \n",
    "\n",
    "s1.add(49) # add the value \n",
    "print(s1) \n",
    "\n",
    "s1.pop()\n",
    "print(s1)\n",
    "\n",
    "s1.pop() # removes the first number in index\n",
    "print(s1)\n",
    "\n",
    "s1.remove(49) \n",
    "print(s1)\n",
    "\n",
    "s1.copy()\n",
    "print(s1)\n",
    "\n",
    "\n"
   ]
  },
  {
   "cell_type": "code",
   "execution_count": 35,
   "metadata": {},
   "outputs": [
    {
     "name": "stdout",
     "output_type": "stream",
     "text": [
      "{1, 2, 3, 4, 5, 6, 10, 8.9, 5.2}\n",
      "{1, 2, 3, 5, 6, 8.9, 5.2}\n"
     ]
    }
   ],
   "source": [
    "# question 3\n",
    "# intersection , union of sets \n",
    "s2={1,2,3,4,5,6,10}\n",
    "s3={4,5.2,8.9,10}\n",
    "\n",
    "print(s2|s3) \n",
    "print(s2^s3)"
   ]
  },
  {
   "cell_type": "code",
   "execution_count": null,
   "metadata": {},
   "outputs": [],
   "source": []
  },
  {
   "cell_type": "code",
   "execution_count": 14,
   "metadata": {},
   "outputs": [
    {
     "name": "stdout",
     "output_type": "stream",
     "text": [
      "[12, 24, 35, 24, 88, 120, 155, 88, 120, 155]\n",
      "[12, 24, 35, 24, 88, 120, 155, 88, 120]\n",
      "[12, 24, 35, 24, 88, 120, 155, 88]\n",
      "[12, 24, 35, 24, 88, 120, 155]\n",
      "[12, 24, 35, 88, 120, 155]\n",
      "12 24 35 88 120 155\n"
     ]
    }
   ],
   "source": [
    "# question 5\n",
    "\n",
    "l =[12,24,35,24,88,120,155,88,120,155]\n",
    "\n",
    "print(l)\n",
    "\n",
    "l.pop(9)\n",
    "print(l)\n",
    "\n",
    "l.pop(8)\n",
    "print(l)\n",
    "\n",
    "l.pop(7)\n",
    "print(l)\n",
    "\n",
    "l.pop(3)\n",
    "print(l)\n",
    "\n",
    "print(*l)\n",
    "\n"
   ]
  },
  {
   "cell_type": "code",
   "execution_count": null,
   "metadata": {},
   "outputs": [],
   "source": []
  }
 ],
 "metadata": {
  "kernelspec": {
   "display_name": "Python 3",
   "language": "python",
   "name": "python3"
  },
  "language_info": {
   "codemirror_mode": {
    "name": "ipython",
    "version": 3
   },
   "file_extension": ".py",
   "mimetype": "text/x-python",
   "name": "python",
   "nbconvert_exporter": "python",
   "pygments_lexer": "ipython3",
   "version": "3.7.6"
  }
 },
 "nbformat": 4,
 "nbformat_minor": 4
}
