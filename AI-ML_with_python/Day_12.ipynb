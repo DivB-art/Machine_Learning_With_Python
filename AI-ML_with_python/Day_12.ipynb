{
 "cells": [
  {
   "cell_type": "code",
   "execution_count": 8,
   "metadata": {},
   "outputs": [
    {
     "name": "stdout",
     "output_type": "stream",
     "text": [
      "0.0 0.0\n",
      "H0 rejected\n"
     ]
    }
   ],
   "source": [
    "import pandas as pd\n",
    "\n",
    "from scipy.stats import wilcoxon\n",
    "\n",
    "data=pd.read_csv(\"E:\\day7\\general_data.csv\")\n",
    "\n",
    "label2={\"Yes\":1,\"No\":0}\n",
    "data.Attrition=data.Attrition.map(label2)\n",
    "\n",
    "d1=data.Age\n",
    "d2=data.Attrition\n",
    "stats,p=wilcoxon(d1,d2)\n",
    "print(stats,p)\n",
    "\n",
    "if p<0.05:\n",
    "    print(\"H0 rejected\")\n",
    "else: print(\"H0 accepted\")"
   ]
  },
  {
   "cell_type": "code",
   "execution_count": 9,
   "metadata": {},
   "outputs": [
    {
     "name": "stdout",
     "output_type": "stream",
     "text": [
      "0.0 0.0\n",
      "H0 rejected\n"
     ]
    }
   ],
   "source": [
    "import pandas as pd\n",
    "\n",
    "from scipy.stats import wilcoxon\n",
    "\n",
    "data=pd.read_csv(\"E:\\day7\\general_data.csv\")\n",
    "\n",
    "label2={\"Yes\":1,\"No\":0}\n",
    "data.Attrition=data.Attrition.map(label2)\n",
    "\n",
    "d1=data.PercentSalaryHike\n",
    "d2=data.Attrition\n",
    "stats,p=wilcoxon(d1,d2)\n",
    "print(stats,p)\n",
    "\n",
    "if p<0.05:\n",
    "    print(\"H0 rejected\")\n",
    "else: print(\"H0 accepted\")"
   ]
  },
  {
   "cell_type": "code",
   "execution_count": 2,
   "metadata": {},
   "outputs": [
    {
     "name": "stdout",
     "output_type": "stream",
     "text": [
      "0.0 0.0\n",
      "H0 rejected\n"
     ]
    }
   ],
   "source": [
    "import pandas as pd\n",
    "\n",
    "from scipy.stats import mannwhitneyu\n",
    "\n",
    "data=pd.read_csv(\"E:\\day7\\general_data.csv\")\n",
    "\n",
    "\n",
    "\n",
    "label2={\"Female\":1,\"Male\":2}\n",
    "data.Gender=data.Gender.map(label2)\n",
    "\n",
    "d1=data.PercentSalaryHike\n",
    "d2=data.Gender\n",
    "stats,p= mannwhitneyu(d1,d2)\n",
    "print(stats,p)\n",
    "\n",
    "\n",
    "if p<0.05:\n",
    "    print(\"H0 rejected\")\n",
    "else: print(\"H0 accepted\")"
   ]
  },
  {
   "cell_type": "code",
   "execution_count": null,
   "metadata": {},
   "outputs": [],
   "source": []
  }
 ],
 "metadata": {
  "kernelspec": {
   "display_name": "Python 3",
   "language": "python",
   "name": "python3"
  },
  "language_info": {
   "codemirror_mode": {
    "name": "ipython",
    "version": 3
   },
   "file_extension": ".py",
   "mimetype": "text/x-python",
   "name": "python",
   "nbconvert_exporter": "python",
   "pygments_lexer": "ipython3",
   "version": "3.7.6"
  }
 },
 "nbformat": 4,
 "nbformat_minor": 4
}
