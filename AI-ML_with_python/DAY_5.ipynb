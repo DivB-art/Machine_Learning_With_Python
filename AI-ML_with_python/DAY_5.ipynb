{
 "cells": [
  {
   "cell_type": "code",
   "execution_count": 17,
   "metadata": {},
   "outputs": [
    {
     "name": "stdout",
     "output_type": "stream",
     "text": [
      "3 is prime number\n",
      "5 is prime number\n",
      "7 is prime number\n",
      "9 is prime number\n",
      "11 is prime number\n",
      "13 is prime number\n",
      "15 is prime number\n",
      "17 is prime number\n",
      "19 is prime number\n"
     ]
    }
   ],
   "source": [
    "# Question 1\n",
    "for i in range(3,21):\n",
    "    if (i%2!=0):\n",
    "        print(i,\"is prime number\")\n",
    "\n",
    "           "
   ]
  },
  {
   "cell_type": "code",
   "execution_count": 17,
   "metadata": {},
   "outputs": [
    {
     "name": "stdout",
     "output_type": "stream",
     "text": [
      "Paul walker\n",
      "1\n",
      "True\n",
      "False\n",
      "False\n",
      "PAUL WALKER\n",
      "False\n",
      "paul walker\n",
      "False\n",
      "p\n",
      "1\n",
      "False\n",
      "taul walker\n",
      "5\n",
      "False\n",
      "['paul', 'walker']\n"
     ]
    }
   ],
   "source": [
    "# question 2 \n",
    "a=\"paul walker\"\n",
    "\n",
    "print(a.capitalize())\n",
    "print(a.count(\"p\"))\n",
    "print(a.endswith(\"r\"))\n",
    "print(a.endswith(\"t\"))\n",
    "print(a.isalnum())\n",
    "print(a.upper())\n",
    "print(a.isupper())\n",
    "print(a.lower())\n",
    "print(a.startswith(\"P\"))\n",
    "print(a[0])\n",
    "print(a.index(\"a\"))\n",
    "print(a.isdigit())\n",
    "print(a.replace(\"p\",\"t\"))\n",
    "print(a.find(\"w\"))\n",
    "print(a.isalpha())\n",
    "print(a.split())\n"
   ]
  },
  {
   "cell_type": "code",
   "execution_count": 1,
   "metadata": {},
   "outputs": [
    {
     "name": "stdout",
     "output_type": "stream",
     "text": [
      "enter the stringmadam\n",
      "madam is palindrome\n"
     ]
    }
   ],
   "source": [
    "# question 3\n",
    "b=input(\"enter the string\")\n",
    "\n",
    "if b==b[::-1]:\n",
    "    print(b,'is palindrome')\n",
    "else: \n",
    "    print(\"none of them \")"
   ]
  },
  {
   "cell_type": "code",
   "execution_count": 7,
   "metadata": {},
   "outputs": [
    {
     "name": "stdout",
     "output_type": "stream",
     "text": [
      "paulwalker\n"
     ]
    }
   ],
   "source": [
    "# question 4 \n",
    "d=\"Paul Walker\"\n",
    "\n",
    "def remove1():\n",
    "    return d.replace(\" \",\"\")\n",
    "    \n",
    "a=remove1()\n",
    "print(a.lower())\n",
    "    "
   ]
  },
  {
   "cell_type": "code",
   "execution_count": null,
   "metadata": {},
   "outputs": [],
   "source": []
  }
 ],
 "metadata": {
  "kernelspec": {
   "display_name": "Python 3",
   "language": "python",
   "name": "python3"
  },
  "language_info": {
   "codemirror_mode": {
    "name": "ipython",
    "version": 3
   },
   "file_extension": ".py",
   "mimetype": "text/x-python",
   "name": "python",
   "nbconvert_exporter": "python",
   "pygments_lexer": "ipython3",
   "version": "3.7.6"
  }
 },
 "nbformat": 4,
 "nbformat_minor": 4
}
