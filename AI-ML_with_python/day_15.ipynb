{
 "cells": [
  {
   "cell_type": "markdown",
   "metadata": {},
   "source": [
    "# Q. Create a 3x3x3 array with random values"
   ]
  },
  {
   "cell_type": "code",
   "execution_count": 2,
   "metadata": {},
   "outputs": [
    {
     "data": {
      "text/plain": [
       "array([[[ 0.33423979,  0.37525649,  0.21989924],\n",
       "        [-0.92115651,  0.07721435,  1.78542316],\n",
       "        [-0.08378094, -1.80283894, -0.50546166]],\n",
       "\n",
       "       [[ 0.27889972,  1.40618839, -2.39074336],\n",
       "        [-1.02244065, -0.51875127,  0.24065484],\n",
       "        [-0.36293259,  1.21790509,  1.24560949]],\n",
       "\n",
       "       [[-1.02062679,  0.588218  , -1.49367701],\n",
       "        [-0.69791331, -1.59280275, -0.75845422],\n",
       "        [-0.43026238,  1.31744315,  0.46588971]]])"
      ]
     },
     "execution_count": 2,
     "metadata": {},
     "output_type": "execute_result"
    }
   ],
   "source": [
    "import numpy as np\n",
    "d=np.random.randn(3,3,3)\n",
    "d"
   ]
  },
  {
   "cell_type": "markdown",
   "metadata": {},
   "source": [
    "# Q. Create a 5x5 matrix with values 1,2,3,4 just below the diagonal"
   ]
  },
  {
   "cell_type": "code",
   "execution_count": 3,
   "metadata": {},
   "outputs": [
    {
     "name": "stdout",
     "output_type": "stream",
     "text": [
      "[[5 5 5 5 5]\n",
      " [5 5 5 5 5]\n",
      " [5 5 5 5 5]\n",
      " [5 5 5 5 5]\n",
      " [5 5 5 5 5]]\n"
     ]
    }
   ],
   "source": [
    "d1=np.array([[5,5,5,5,5],[5,5,5,5,5],[5,5,5,5,5],[5,5,5,5,5],[5,5,5,5,5]])\n",
    "print(d1)\n"
   ]
  },
  {
   "cell_type": "code",
   "execution_count": 4,
   "metadata": {},
   "outputs": [
    {
     "data": {
      "text/plain": [
       "array([[5, 5, 5, 5, 5],\n",
       "       [1, 5, 5, 5, 5],\n",
       "       [5, 5, 5, 5, 5],\n",
       "       [5, 5, 5, 5, 5],\n",
       "       [5, 5, 5, 5, 5]])"
      ]
     },
     "execution_count": 4,
     "metadata": {},
     "output_type": "execute_result"
    }
   ],
   "source": [
    "d1[1][0]=1\n",
    "\n",
    "d1"
   ]
  },
  {
   "cell_type": "code",
   "execution_count": 5,
   "metadata": {},
   "outputs": [
    {
     "data": {
      "text/plain": [
       "array([[5, 5, 5, 5, 5],\n",
       "       [1, 5, 5, 5, 5],\n",
       "       [5, 2, 5, 5, 5],\n",
       "       [5, 5, 5, 5, 5],\n",
       "       [5, 5, 5, 5, 5]])"
      ]
     },
     "execution_count": 5,
     "metadata": {},
     "output_type": "execute_result"
    }
   ],
   "source": [
    "d1[2][1]=2\n",
    "d1"
   ]
  },
  {
   "cell_type": "code",
   "execution_count": 6,
   "metadata": {},
   "outputs": [
    {
     "data": {
      "text/plain": [
       "array([[5, 5, 5, 5, 5],\n",
       "       [1, 5, 5, 5, 5],\n",
       "       [5, 2, 5, 5, 5],\n",
       "       [5, 5, 3, 5, 5],\n",
       "       [5, 5, 5, 5, 5]])"
      ]
     },
     "execution_count": 6,
     "metadata": {},
     "output_type": "execute_result"
    }
   ],
   "source": [
    "d1[3][2]=3\n",
    "d1"
   ]
  },
  {
   "cell_type": "code",
   "execution_count": 7,
   "metadata": {},
   "outputs": [
    {
     "data": {
      "text/plain": [
       "array([[5, 5, 5, 5, 5],\n",
       "       [1, 5, 5, 5, 5],\n",
       "       [5, 2, 5, 5, 5],\n",
       "       [5, 5, 3, 5, 5],\n",
       "       [5, 5, 5, 4, 5]])"
      ]
     },
     "execution_count": 7,
     "metadata": {},
     "output_type": "execute_result"
    }
   ],
   "source": [
    "d1[4][3]=4\n",
    "d1"
   ]
  },
  {
   "cell_type": "code",
   "execution_count": 8,
   "metadata": {},
   "outputs": [
    {
     "data": {
      "text/plain": [
       "array([[5, 5, 5, 5, 5],\n",
       "       [1, 5, 5, 5, 5],\n",
       "       [5, 2, 5, 5, 5],\n",
       "       [5, 5, 3, 5, 5],\n",
       "       [5, 5, 5, 4, 5]])"
      ]
     },
     "execution_count": 8,
     "metadata": {},
     "output_type": "execute_result"
    }
   ],
   "source": [
    "d1"
   ]
  },
  {
   "cell_type": "markdown",
   "metadata": {},
   "source": [
    "# Q. Create a 8x8 matrix and fill it with a checkerboard pattern"
   ]
  },
  {
   "cell_type": "code",
   "execution_count": 9,
   "metadata": {},
   "outputs": [
    {
     "name": "stdout",
     "output_type": "stream",
     "text": [
      "[[0. 0. 0. 0. 0. 0. 0. 0.]\n",
      " [0. 0. 0. 0. 0. 0. 0. 0.]\n",
      " [0. 0. 0. 0. 0. 0. 0. 0.]\n",
      " [0. 0. 0. 0. 0. 0. 0. 0.]\n",
      " [0. 0. 0. 0. 0. 0. 0. 0.]\n",
      " [0. 0. 0. 0. 0. 0. 0. 0.]\n",
      " [0. 0. 0. 0. 0. 0. 0. 0.]\n",
      " [0. 0. 0. 0. 0. 0. 0. 0.]]\n"
     ]
    },
    {
     "data": {
      "text/plain": [
       "array([[0., 1., 0., 1., 0., 1., 0., 1.],\n",
       "       [1., 0., 1., 0., 1., 0., 1., 0.],\n",
       "       [0., 1., 0., 1., 0., 1., 0., 1.],\n",
       "       [1., 0., 1., 0., 1., 0., 1., 0.],\n",
       "       [0., 1., 0., 1., 0., 1., 0., 1.],\n",
       "       [1., 0., 1., 0., 1., 0., 1., 0.],\n",
       "       [0., 1., 0., 1., 0., 1., 0., 1.],\n",
       "       [1., 0., 1., 0., 1., 0., 1., 0.]])"
      ]
     },
     "execution_count": 9,
     "metadata": {},
     "output_type": "execute_result"
    }
   ],
   "source": [
    "import numpy as np\n",
    "d7=np.zeros((8,8))\n",
    "print(d7)\n",
    "\n",
    "d7[1::2,::2]=1\n",
    "d7[::2,1::2]=1\n",
    "d7"
   ]
  },
  {
   "cell_type": "markdown",
   "metadata": {},
   "source": [
    "# Q. Normalize a 5x5 random matrix"
   ]
  },
  {
   "cell_type": "code",
   "execution_count": 11,
   "metadata": {},
   "outputs": [
    {
     "data": {
      "text/plain": [
       "array([[ 0.79004021,  0.83451623, -1.22664316, -0.23603382,  0.51514577],\n",
       "       [-1.30288921,  0.59285634, -1.43281939,  0.03056748,  1.48201249],\n",
       "       [-0.03789627, -1.66601626, -0.99721629,  0.68016347,  0.77990994],\n",
       "       [ 2.11233441, -1.00130033, -0.63436277, -0.0545195 ,  0.29033109],\n",
       "       [ 1.53256051,  0.26422395,  0.4749911 , -1.40077485, -0.38918115]])"
      ]
     },
     "execution_count": 11,
     "metadata": {},
     "output_type": "execute_result"
    }
   ],
   "source": [
    "y=np.random.randn(5,5)\n",
    "\n",
    "y=(y-np.mean(y))/(np.std(y))\n",
    "y"
   ]
  },
  {
   "cell_type": "markdown",
   "metadata": {},
   "source": [
    "# Q 5. How to find common values between two arrays?"
   ]
  },
  {
   "cell_type": "code",
   "execution_count": 28,
   "metadata": {},
   "outputs": [
    {
     "name": "stdout",
     "output_type": "stream",
     "text": [
      "[[15 12  3  4 25]\n",
      " [72 87 19 10 11]]\n",
      "[[ 1  2  3  4  5]\n",
      " [ 7  8 87 10 11]]\n"
     ]
    }
   ],
   "source": [
    "n=np.array([[1,2,3,4,5],[7,8,87,10,11]])\n",
    "m=np.array([[15,12,3,4,25],[72,87,19,10,11]])\n",
    "print(m)\n",
    "print(n)"
   ]
  },
  {
   "cell_type": "code",
   "execution_count": 29,
   "metadata": {},
   "outputs": [
    {
     "data": {
      "text/plain": [
       "array([ 3,  4, 10, 11, 87])"
      ]
     },
     "execution_count": 29,
     "metadata": {},
     "output_type": "execute_result"
    }
   ],
   "source": [
    "z=np.intersect1d(n,m)\n",
    "z\n",
    "        "
   ]
  },
  {
   "cell_type": "markdown",
   "metadata": {},
   "source": [
    "# Q 6.How to get the dates of yesterday, today and tomorrow?"
   ]
  },
  {
   "cell_type": "code",
   "execution_count": 31,
   "metadata": {},
   "outputs": [
    {
     "name": "stdout",
     "output_type": "stream",
     "text": [
      "2020-07-29\n",
      "2020-07-30\n",
      "2020-07-31\n"
     ]
    }
   ],
   "source": [
    "y=np.datetime64(\"today\")-np.timedelta64(1)\n",
    "t=np.datetime64(\"today\")\n",
    "t1=np.datetime64(\"today\")+np.timedelta64(1)\n",
    "\n",
    "print(y)\n",
    "print(t)\n",
    "print(t1)\n"
   ]
  },
  {
   "cell_type": "markdown",
   "metadata": {},
   "source": [
    "# Q 7. Consider two random array A and B, check if they are equal"
   ]
  },
  {
   "cell_type": "code",
   "execution_count": 52,
   "metadata": {},
   "outputs": [
    {
     "name": "stdout",
     "output_type": "stream",
     "text": [
      "[[ 0.33695776  1.22219273  0.03965966]\n",
      " [ 2.09847316 -0.89120999 -0.07155393]\n",
      " [-0.47501    -3.32923949 -0.86085985]]\n",
      "[[-0.74368851  0.38253153 -0.4040641 ]\n",
      " [ 0.67953959  1.05223233 -0.98342859]\n",
      " [-0.39498978 -0.48767939 -0.84504926]]\n"
     ]
    },
    {
     "data": {
      "text/plain": [
       "False"
      ]
     },
     "execution_count": 52,
     "metadata": {},
     "output_type": "execute_result"
    }
   ],
   "source": [
    "t=np.random.randn(3,3)\n",
    "q=np.random.randn(3,3)\n",
    "print(t)\n",
    "print(q)\n",
    "\n",
    "equal = np.array_equal(t,q)\n",
    "equal"
   ]
  },
  {
   "cell_type": "markdown",
   "metadata": {},
   "source": [
    "# Q8 Create random vector of size 10 and replace the maximum value by 0"
   ]
  },
  {
   "cell_type": "code",
   "execution_count": 62,
   "metadata": {},
   "outputs": [
    {
     "name": "stdout",
     "output_type": "stream",
     "text": [
      "[-0.26411314 -1.56182266 -0.27420289 -0.44762472  0.86042254  0.25973318\n",
      "  0.22995061  0.40501568  0.46862911 -1.73902854]\n",
      "[-0.26411314 -1.56182266 -0.27420289 -0.44762472  0.          0.25973318\n",
      "  0.22995061  0.40501568  0.46862911 -1.73902854]\n"
     ]
    }
   ],
   "source": [
    "a=np.random.randn(10)\n",
    "print(a)\n",
    "\n",
    "max(a)\n",
    "\n",
    "a[a.argmax()]=0\n",
    "print(a)\n"
   ]
  },
  {
   "cell_type": "markdown",
   "metadata": {},
   "source": [
    "# Q9. How to print all the values of an array?"
   ]
  },
  {
   "cell_type": "code",
   "execution_count": 63,
   "metadata": {},
   "outputs": [
    {
     "data": {
      "text/plain": [
       "array([[0., 0., 0., 0., 0., 0., 0., 0.],\n",
       "       [0., 0., 0., 0., 0., 0., 0., 0.],\n",
       "       [0., 0., 0., 0., 0., 0., 0., 0.],\n",
       "       [0., 0., 0., 0., 0., 0., 0., 0.],\n",
       "       [0., 0., 0., 0., 0., 0., 0., 0.],\n",
       "       [0., 0., 0., 0., 0., 0., 0., 0.],\n",
       "       [0., 0., 0., 0., 0., 0., 0., 0.],\n",
       "       [0., 0., 0., 0., 0., 0., 0., 0.]])"
      ]
     },
     "execution_count": 63,
     "metadata": {},
     "output_type": "execute_result"
    }
   ],
   "source": [
    "s=np.zeros((8,8))\n",
    "s"
   ]
  },
  {
   "cell_type": "markdown",
   "metadata": {},
   "source": [
    "# Q10.Subtract the mean of each row of a matrix"
   ]
  },
  {
   "cell_type": "code",
   "execution_count": 68,
   "metadata": {},
   "outputs": [
    {
     "name": "stdout",
     "output_type": "stream",
     "text": [
      "[[-0.29268622  0.31978511 -0.41082447 -0.09946197  0.39306137  0.23594623\n",
      "   0.00459698 -0.5078659   0.38737143 -0.02992257]\n",
      " [-0.11980496  0.37603508  0.19070458  0.32407865 -0.44381662 -0.11939708\n",
      "   0.17008628 -0.56068902 -0.06623708  0.24904017]\n",
      " [-0.16709729  0.68892464 -0.26086698  0.03411993 -0.01373502 -0.2314931\n",
      "   0.23721693 -0.16861024 -0.23080836  0.1123495 ]\n",
      " [ 0.02154827 -0.48521973  0.24972103  0.19539151  0.01033334 -0.40523244\n",
      "   0.08757114  0.09379324  0.35140295 -0.11930931]\n",
      " [-0.43585053 -0.32003747  0.14611932 -0.06607065  0.37777377 -0.00310494\n",
      "   0.38279643 -0.37475827 -0.01679471  0.30992707]]\n",
      "[[-0.29268622  0.31978511 -0.41082447 -0.09946197  0.39306137  0.23594623\n",
      "   0.00459698 -0.5078659   0.38737143 -0.02992257]\n",
      " [-0.11980496  0.37603508  0.19070458  0.32407865 -0.44381662 -0.11939708\n",
      "   0.17008628 -0.56068902 -0.06623708  0.24904017]\n",
      " [-0.16709729  0.68892464 -0.26086698  0.03411993 -0.01373502 -0.2314931\n",
      "   0.23721693 -0.16861024 -0.23080836  0.1123495 ]\n",
      " [ 0.02154827 -0.48521973  0.24972103  0.19539151  0.01033334 -0.40523244\n",
      "   0.08757114  0.09379324  0.35140295 -0.11930931]\n",
      " [-0.43585053 -0.32003747  0.14611932 -0.06607065  0.37777377 -0.00310494\n",
      "   0.38279643 -0.37475827 -0.01679471  0.30992707]]\n"
     ]
    }
   ],
   "source": [
    "X = np.random.rand(5, 10)\n",
    "Y = X - X.mean(axis=1, keepdims=True)\n",
    "Y1 = X - X.mean(axis=1).reshape(-1, 1)\n",
    "\n",
    "print(Y)\n",
    "print(Y1)"
   ]
  },
  {
   "cell_type": "markdown",
   "metadata": {},
   "source": [
    "\n",
    "# 11.Consider a given vector, how to add 1 to each element indexed by a second vector (be careful with repeated indices)?"
   ]
  },
  {
   "cell_type": "code",
   "execution_count": 66,
   "metadata": {},
   "outputs": [
    {
     "name": "stdout",
     "output_type": "stream",
     "text": [
      "[3. 6. 5. 1. 3. 1. 5. 1. 2. 3.]\n"
     ]
    }
   ],
   "source": [
    "Z = np.ones(10)\n",
    "I = np.random.randint(0,len(Z),20)\n",
    "Z += np.bincount(I, minlength=len(Z))\n",
    "print(Z)"
   ]
  },
  {
   "cell_type": "code",
   "execution_count": 67,
   "metadata": {},
   "outputs": [
    {
     "name": "stdout",
     "output_type": "stream",
     "text": [
      "[ 5. 11.  9.  1.  5.  1.  9.  1.  3.  5.]\n"
     ]
    }
   ],
   "source": [
    "np.add.at(Z, I, 1)\n",
    "print(Z)"
   ]
  },
  {
   "cell_type": "markdown",
   "metadata": {},
   "source": [
    "\n",
    " # Q 12.How to get the diagonal of a dot product?"
   ]
  },
  {
   "cell_type": "code",
   "execution_count": 71,
   "metadata": {},
   "outputs": [
    {
     "name": "stdout",
     "output_type": "stream",
     "text": [
      "[[0.70653645 0.641165   0.35237156 0.94902681 0.88994686]\n",
      " [0.57496928 0.85590985 0.28847181 0.32786988 0.51755424]\n",
      " [0.32858734 0.01239477 0.54837231 0.41371336 0.20200594]\n",
      " [0.17991803 0.82305184 0.90923784 0.24535142 0.70654656]\n",
      " [0.480041   0.06315365 0.47817607 0.15190362 0.55204152]]\n",
      "[[0.13693911 0.63301391 0.38406785 0.82890014 0.29031983]\n",
      " [0.12426803 0.42505688 0.59735564 0.15625271 0.50117326]\n",
      " [0.92733495 0.49874799 0.21034091 0.40610949 0.22277222]\n",
      " [0.68696572 0.39885904 0.6943771  0.85317447 0.0164531 ]\n",
      " [0.3668627  0.10077923 0.62223873 0.6101574  0.41779978]]\n",
      "diagonal of a dot product method 1 is.... [1.48163244 1.05458124 0.66191804 1.28742045 0.5106828 ]\n",
      "diagonal of a dot product method 2 is.... [1.48163244 1.05458124 0.66191804 1.28742045 0.5106828 ]\n"
     ]
    }
   ],
   "source": [
    "A = np.random.uniform(0,1,(5,5))\n",
    "B = np.random.uniform(0,1,(5,5))\n",
    "print(A)\n",
    "print(B)\n",
    "# Slow version\n",
    "prod1=np.diag(np.dot(A, B))\n",
    "\n",
    "# Fast version\n",
    "prod2=np.sum(A * B.T, axis=1)\n",
    "\n",
    "print(\"diagonal of a dot product method 1 is....\",prod1)\n",
    "print(\"diagonal of a dot product method 2 is....\",prod2)"
   ]
  },
  {
   "cell_type": "markdown",
   "metadata": {},
   "source": [
    "# Q 13.How to find the most frequent value in an array?"
   ]
  },
  {
   "cell_type": "code",
   "execution_count": 70,
   "metadata": {},
   "outputs": [
    {
     "name": "stdout",
     "output_type": "stream",
     "text": [
      "[3 6 5 1 6 4 0 2 0 8 6 1 0 4 1 6 4 8 7 1 2 3 3 0 2 8 1 0 4 6 5 5 1 2 2 7 2\n",
      " 0 4 2 4 8 3 4 8 0 7 5 1 3]\n",
      "0\n"
     ]
    }
   ],
   "source": [
    "Z = np.random.randint(0,10,50)\n",
    "print(Z)\n",
    "print(np.bincount(Z).argmax())"
   ]
  },
  {
   "cell_type": "markdown",
   "metadata": {},
   "source": [
    "#  Q14.How to get the n largest values of an array"
   ]
  },
  {
   "cell_type": "code",
   "execution_count": 69,
   "metadata": {},
   "outputs": [
    {
     "name": "stdout",
     "output_type": "stream",
     "text": [
      "[9995 9996 9997 9998 9999]\n"
     ]
    }
   ],
   "source": [
    "Z = np.arange(10000)\n",
    "np.random.shuffle(Z)\n",
    "n = 5\n",
    "\n",
    "\n",
    "print (Z[np.argsort(Z)[-n:]])\n"
   ]
  },
  {
   "cell_type": "markdown",
   "metadata": {},
   "source": [
    "# Q15.How to create a record array from a regular array?"
   ]
  },
  {
   "cell_type": "code",
   "execution_count": 64,
   "metadata": {},
   "outputs": [
    {
     "name": "stdout",
     "output_type": "stream",
     "text": [
      "[(b'Hello', 2.5, 3) (b'World', 3.6, 2)]\n"
     ]
    }
   ],
   "source": [
    "Z = np.array([(\"Hello\", 2.5, 3),\n",
    "              (\"World\", 3.6, 2)])\n",
    "R = np.core.records.fromarrays(Z.T,\n",
    "                               names='col1, col2, col3',\n",
    "                               formats = 'S8, f8, i8')\n",
    "print(R)"
   ]
  },
  {
   "cell_type": "code",
   "execution_count": null,
   "metadata": {},
   "outputs": [],
   "source": []
  }
 ],
 "metadata": {
  "kernelspec": {
   "display_name": "Python 3",
   "language": "python",
   "name": "python3"
  },
  "language_info": {
   "codemirror_mode": {
    "name": "ipython",
    "version": 3
   },
   "file_extension": ".py",
   "mimetype": "text/x-python",
   "name": "python",
   "nbconvert_exporter": "python",
   "pygments_lexer": "ipython3",
   "version": "3.7.6"
  }
 },
 "nbformat": 4,
 "nbformat_minor": 4
}
