{
 "cells": [
  {
   "cell_type": "markdown",
   "metadata": {},
   "source": [
    "# Attrition  and Education\n"
   ]
  },
  {
   "cell_type": "code",
   "execution_count": 5,
   "metadata": {},
   "outputs": [
    {
     "name": "stdout",
     "output_type": "stream",
     "text": [
      "-0.015111167710968782 0.3157293177118575\n"
     ]
    },
    {
     "data": {
      "text/plain": [
       "<matplotlib.collections.PathCollection at 0xddeedd0>"
      ]
     },
     "execution_count": 5,
     "metadata": {},
     "output_type": "execute_result"
    },
    {
     "data": {
      "image/png": "[encoded data removed]",
      "text/plain": [
       "<Figure size 432x288 with 1 Axes>"
      ]
     },
     "metadata": {
      "needs_background": "light"
     },
     "output_type": "display_data"
    }
   ],
   "source": [
    "import pandas as pd\n",
    "import numpy as np\n",
    "from scipy.stats import pearsonr\n",
    "import matplotlib.pyplot as plt\n",
    "\n",
    "\n",
    "d2=pd.read_csv(\"E:\\day7\\general_data.csv\")\n",
    "\n",
    "label2={\"Yes\":1,\"No\":0}\n",
    "d2.Attrition=d2.Attrition.map(label2)\n",
    "\n",
    "stats,p=pearsonr(d2.Attrition,d2.Education)\n",
    "print(stats,p)\n",
    "\n",
    "plt.scatter(d2.Attrition,d2.Education)"
   ]
  },
  {
   "cell_type": "markdown",
   "metadata": {},
   "source": [
    "> from the above calculation corelation = -0.015 , it states as negative corelation.           \n",
    "> p>0.05 accept null hpothesis (there is no signficant relation\n",
    "between attrition and education"
   ]
  },
  {
   "cell_type": "markdown",
   "metadata": {},
   "source": [
    "# Attrition and Monthlyincome\n"
   ]
  },
  {
   "cell_type": "code",
   "execution_count": 6,
   "metadata": {
    "scrolled": true
   },
   "outputs": [
    {
     "name": "stdout",
     "output_type": "stream",
     "text": [
      "-0.031176281698115066 0.03842748490600132\n"
     ]
    },
    {
     "data": {
      "text/plain": [
       "<matplotlib.collections.PathCollection at 0xde7fa10>"
      ]
     },
     "execution_count": 6,
     "metadata": {},
     "output_type": "execute_result"
    },
    {
     "data": {
      "image/png": "[encoded data removed]",
      "text/plain": [
       "<Figure size 432x288 with 1 Axes>"
      ]
     },
     "metadata": {
      "needs_background": "light"
     },
     "output_type": "display_data"
    }
   ],
   "source": [
    "import pandas as pd\n",
    "import numpy as np\n",
    "from scipy.stats import pearsonr\n",
    "import matplotlib.pyplot as plt\n",
    "\n",
    "d2=pd.read_csv(\"E:\\day7\\general_data.csv\")\n",
    "\n",
    "label2={\"Yes\":1,\"No\":0}\n",
    "d2.Attrition=d2.Attrition.map(label2)\n",
    "\n",
    "stats,p=pearsonr(d2.Attrition,d2.MonthlyIncome)\n",
    "print(stats,p)\n",
    "\n",
    "plt.scatter(d2.Attrition,d2.MonthlyIncome)"
   ]
  },
  {
   "cell_type": "markdown",
   "metadata": {},
   "source": [
    "> from the above calculation corelation = -0.03 , it states as negative corelation.           \n",
    "> p<0.05 reject null hpothesis, inturn accept alternate hyothesis (there is signficant relation between attrition and Monthly  income"
   ]
  },
  {
   "cell_type": "markdown",
   "metadata": {},
   "source": [
    "# Attrition and age\n"
   ]
  },
  {
   "cell_type": "code",
   "execution_count": 12,
   "metadata": {},
   "outputs": [
    {
     "name": "stdout",
     "output_type": "stream",
     "text": [
      "-0.15920500686577943 1.996801615887666e-26\n"
     ]
    },
    {
     "data": {
      "text/plain": [
       "<matplotlib.collections.PathCollection at 0xe0e4d70>"
      ]
     },
     "execution_count": 12,
     "metadata": {},
     "output_type": "execute_result"
    },
    {
     "data": {
      "image/png": "[encoded data removed]",
      "text/plain": [
       "<Figure size 432x288 with 1 Axes>"
      ]
     },
     "metadata": {
      "needs_background": "light"
     },
     "output_type": "display_data"
    }
   ],
   "source": [
    "import pandas as pd\n",
    "import numpy as np\n",
    "from scipy.stats import pearsonr\n",
    "import matplotlib.pyplot as plt\n",
    "\n",
    "\n",
    "d2=pd.read_csv(\"E:\\day7\\general_data.csv\")\n",
    "\n",
    "label2={\"Yes\":1,\"No\":0}\n",
    "d2.Attrition=d2.Attrition.map(label2)\n",
    "stats,p=pearsonr(d2.Attrition,d2.Age)\n",
    "d2.dropna()\n",
    "print(stats,p)\n",
    "\n",
    "plt.scatter(d2.Attrition,d2.Age)"
   ]
  },
  {
   "cell_type": "markdown",
   "metadata": {},
   "source": [
    "from the above calculation corelation = -0.15 , it states as negative corelation.\n",
    "p<0.05 rejecting null hpothesis, inturn accept alternate hyothesis (there is signficant relation between attrition and age"
   ]
  },
  {
   "cell_type": "markdown",
   "metadata": {},
   "source": [
    "# Attrition and percent salary hike"
   ]
  },
  {
   "cell_type": "code",
   "execution_count": 8,
   "metadata": {},
   "outputs": [
    {
     "name": "stdout",
     "output_type": "stream",
     "text": [
      "0.032532594891053646 0.030743386433348254\n"
     ]
    }
   ],
   "source": [
    "import pandas as pd\n",
    "import numpy as np\n",
    "from scipy.stats import pearsonr\n",
    "import matplotlib.pyplot as plt\n",
    "\n",
    "d2=pd.read_csv(\"E:\\day7\\general_data.csv\")\n",
    "\n",
    "label2={\"Yes\":1,\"No\":0}\n",
    "d2.Attrition=d2.Attrition.map(label2)\n",
    "\n",
    "stats,p=pearsonr(d2.Attrition,d2.PercentSalaryHike)\n",
    "print(stats,p)\n",
    "\n"
   ]
  },
  {
   "cell_type": "code",
   "execution_count": 9,
   "metadata": {},
   "outputs": [
    {
     "data": {
      "text/plain": [
       "<matplotlib.collections.PathCollection at 0xdf0e4f0>"
      ]
     },
     "execution_count": 9,
     "metadata": {},
     "output_type": "execute_result"
    },
    {
     "data": {
      "image/png": "[encoded data removed]",
      "text/plain": [
       "<Figure size 432x288 with 1 Axes>"
      ]
     },
     "metadata": {
      "needs_background": "light"
     },
     "output_type": "display_data"
    }
   ],
   "source": [
    "plt.scatter(d2.Attrition,d2.PercentSalaryHike)"
   ]
  },
  {
   "cell_type": "markdown",
   "metadata": {},
   "source": [
    "> as p<0.05 rejecting null hypthesis inturn accepting alternative hyothesis (there is a signicicant relation between attrition and percent salary hike \n",
    "> as stats states that corelation is 0.03 , inturn positive corelation "
   ]
  },
  {
   "cell_type": "markdown",
   "metadata": {},
   "source": [
    "# Attrition and years at company"
   ]
  },
  {
   "cell_type": "code",
   "execution_count": 20,
   "metadata": {},
   "outputs": [
    {
     "name": "stdout",
     "output_type": "stream",
     "text": [
      "-0.13439221398997736 3.163883122488445e-19\n"
     ]
    },
    {
     "data": {
      "text/plain": [
       "<matplotlib.collections.PathCollection at 0xe12cad0>"
      ]
     },
     "execution_count": 20,
     "metadata": {},
     "output_type": "execute_result"
    },
    {
     "data": {
      "image/png": "[encoded data removed]",
      "text/plain": [
       "<Figure size 432x288 with 1 Axes>"
      ]
     },
     "metadata": {
      "needs_background": "light"
     },
     "output_type": "display_data"
    }
   ],
   "source": [
    "import pandas as pd\n",
    "import numpy as np\n",
    "from scipy.stats import pearsonr\n",
    "import matplotlib.pyplot as plt\n",
    "\n",
    "\n",
    "d2=pd.read_csv(\"E:\\day7\\general_data.csv\")\n",
    "\n",
    "label2={\"Yes\":1,\"No\":0}\n",
    "d2.Attrition=d2.Attrition.map(label2)\n",
    "\n",
    "\n",
    "d2.dropna(how=\"all\")\n",
    "stats,p=pearsonr(d2.Attrition,d2.YearsAtCompany)\n",
    "\n",
    "\n",
    "\n",
    "print(stats,p)\n",
    "\n",
    "plt.scatter(d2.Attrition,d2.YearsAtCompany)"
   ]
  },
  {
   "cell_type": "markdown",
   "metadata": {},
   "source": [
    "from the above calculation its negative corelation \n",
    "as p<0.05 reject null hyothesis, accept alternate hypothesis ( there is signicficant relation between attrition and years at company"
   ]
  }
 ],
 "metadata": {
  "kernelspec": {
   "display_name": "Python 3",
   "language": "python",
   "name": "python3"
  },
  "language_info": {
   "codemirror_mode": {
    "name": "ipython",
    "version": 3
   },
   "file_extension": ".py",
   "mimetype": "text/x-python",
   "name": "python",
   "nbconvert_exporter": "python",
   "pygments_lexer": "ipython3",
   "version": "3.7.6"
  }
 },
 "nbformat": 4,
 "nbformat_minor": 4
}
