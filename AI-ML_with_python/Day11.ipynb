{
 "cells": [
  {
   "cell_type": "markdown",
   "metadata": {},
   "source": [
    "# Attrition  and Education\n",
    "\n",
    "1. as p value is greater than 0.05 , accepting the Null hypothesis "
   ]
  },
  {
   "cell_type": "code",
   "execution_count": 54,
   "metadata": {},
   "outputs": [
    {
     "name": "stdout",
     "output_type": "stream",
     "text": [
      "-0.015111167710968772 0.3157293177118575\n"
     ]
    },
    {
     "data": {
      "text/plain": [
       "<matplotlib.collections.PathCollection at 0xef93b50>"
      ]
     },
     "execution_count": 54,
     "metadata": {},
     "output_type": "execute_result"
    },
    {
     "data": {
      "image/png": "[encoded data removed]",
      "text/plain": [
       "<Figure size 432x288 with 1 Axes>"
      ]
     },
     "metadata": {
      "needs_background": "light"
     },
     "output_type": "display_data"
    }
   ],
   "source": [
    "import pandas as pd\n",
    "import numpy as np\n",
    "from scipy.stats import pearsonr\n",
    "\n",
    "\n",
    "d2=pd.read_csv(\"E:\\day7\\general_data.csv\")\n",
    "\n",
    "label2={\"Yes\":1,\"No\":0}\n",
    "d2.Attrition=d2.Attrition.map(label2)\n",
    "\n",
    "stats,p=pearsonr(d2.Attrition,d2.Education)\n",
    "print(stats,p)\n",
    "\n",
    "plt.scatter(d2.Attrition,d2.Education)"
   ]
  },
  {
   "cell_type": "markdown",
   "metadata": {},
   "source": [
    "# Attrition and Monthlyincome\n",
    "\n",
    "2. as p value is less than 0.05 , rejecting  the Null hypothesis "
   ]
  },
  {
   "cell_type": "code",
   "execution_count": 55,
   "metadata": {},
   "outputs": [
    {
     "name": "stdout",
     "output_type": "stream",
     "text": [
      "-0.031176281698115052 0.03842748490600132\n"
     ]
    },
    {
     "data": {
      "text/plain": [
       "<matplotlib.collections.PathCollection at 0xefc7230>"
      ]
     },
     "execution_count": 55,
     "metadata": {},
     "output_type": "execute_result"
    },
    {
     "data": {
      "image/png": "[encoded data removed]",
      "text/plain": [
       "<Figure size 432x288 with 1 Axes>"
      ]
     },
     "metadata": {
      "needs_background": "light"
     },
     "output_type": "display_data"
    }
   ],
   "source": [
    "import pandas as pd\n",
    "import numpy as np\n",
    "from scipy.stats import pearsonr\n",
    "\n",
    "\n",
    "d2=pd.read_csv(\"E:\\day7\\general_data.csv\")\n",
    "\n",
    "label2={\"Yes\":1,\"No\":0}\n",
    "d2.Attrition=d2.Attrition.map(label2)\n",
    "\n",
    "stats,p=pearsonr(d2.Attrition,d2.MonthlyIncome)\n",
    "print(stats,p)\n",
    "\n",
    "plt.scatter(d2.Attrition,d2.MonthlyIncome)"
   ]
  },
  {
   "cell_type": "markdown",
   "metadata": {},
   "source": [
    "# Attrition and age\n",
    "\n",
    "3. as p value is less than 0.05 , rejecting  the Null hypothesis "
   ]
  },
  {
   "cell_type": "code",
   "execution_count": 51,
   "metadata": {},
   "outputs": [
    {
     "name": "stdout",
     "output_type": "stream",
     "text": [
      "-0.15920500686577968 1.996801615886744e-26\n"
     ]
    },
    {
     "data": {
      "text/plain": [
       "<matplotlib.collections.PathCollection at 0xec2a870>"
      ]
     },
     "execution_count": 51,
     "metadata": {},
     "output_type": "execute_result"
    },
    {
     "data": {
      "image/png": "[encoded data removed]",
      "text/plain": [
       "<Figure size 432x288 with 1 Axes>"
      ]
     },
     "metadata": {
      "needs_background": "light"
     },
     "output_type": "display_data"
    }
   ],
   "source": [
    "import pandas as pd\n",
    "import numpy as np\n",
    "from scipy.stats import pearsonr\n",
    "import matplotlib.pyplot as plt\n",
    "\n",
    "\n",
    "d2=pd.read_csv(\"E:\\day7\\general_data.csv\")\n",
    "\n",
    "label2={\"Yes\":1,\"No\":0}\n",
    "d2.Attrition=d2.Attrition.map(label2)\n",
    "d2.dropna()\n",
    "stats,p=pearsonr(d2.Attrition,d2.Age)\n",
    "d2.dropna()\n",
    "print(stats,p)\n",
    "\n",
    "plt.scatter(d2.Attrition,d2.Age)"
   ]
  },
  {
   "cell_type": "code",
   "execution_count": null,
   "metadata": {},
   "outputs": [],
   "source": []
  },
  {
   "cell_type": "code",
   "execution_count": null,
   "metadata": {},
   "outputs": [],
   "source": []
  },
  {
   "cell_type": "code",
   "execution_count": null,
   "metadata": {},
   "outputs": [],
   "source": []
  }
 ],
 "metadata": {
  "kernelspec": {
   "display_name": "Python 3",
   "language": "python",
   "name": "python3"
  },
  "language_info": {
   "codemirror_mode": {
    "name": "ipython",
    "version": 3
   },
   "file_extension": ".py",
   "mimetype": "text/x-python",
   "name": "python",
   "nbconvert_exporter": "python",
   "pygments_lexer": "ipython3",
   "version": "3.7.6"
  }
 },
 "nbformat": 4,
 "nbformat_minor": 4
}
