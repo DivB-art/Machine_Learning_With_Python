{
 "cells": [
  {
   "cell_type": "code",
   "execution_count": 2,
   "metadata": {},
   "outputs": [
    {
     "name": "stdout",
     "output_type": "stream",
     "text": [
      "      Age Attrition     BusinessTravel              Department  \\\n",
      "0      51        No      Travel_Rarely                   Sales   \n",
      "1      31       Yes  Travel_Frequently  Research & Development   \n",
      "2      32        No  Travel_Frequently  Research & Development   \n",
      "3      38        No         Non-Travel  Research & Development   \n",
      "4      32        No      Travel_Rarely  Research & Development   \n",
      "...   ...       ...                ...                     ...   \n",
      "4405   42        No      Travel_Rarely  Research & Development   \n",
      "4406   29        No      Travel_Rarely  Research & Development   \n",
      "4407   25        No      Travel_Rarely  Research & Development   \n",
      "4408   42        No      Travel_Rarely                   Sales   \n",
      "4409   40        No      Travel_Rarely  Research & Development   \n",
      "\n",
      "      DistanceFromHome  Education EducationField  EmployeeCount  EmployeeID  \\\n",
      "0                    6          2  Life Sciences              1           1   \n",
      "1                   10          1  Life Sciences              1           2   \n",
      "2                   17          4          Other              1           3   \n",
      "3                    2          5  Life Sciences              1           4   \n",
      "4                   10          1        Medical              1           5   \n",
      "...                ...        ...            ...            ...         ...   \n",
      "4405                 5          4        Medical              1        4406   \n",
      "4406                 2          4        Medical              1        4407   \n",
      "4407                25          2  Life Sciences              1        4408   \n",
      "4408                18          2        Medical              1        4409   \n",
      "4409                28          3        Medical              1        4410   \n",
      "\n",
      "      Gender  ...  NumCompaniesWorked Over18 PercentSalaryHike  StandardHours  \\\n",
      "0     Female  ...                 1.0      Y                11              8   \n",
      "1     Female  ...                 0.0      Y                23              8   \n",
      "2       Male  ...                 1.0      Y                15              8   \n",
      "3       Male  ...                 3.0      Y                11              8   \n",
      "4       Male  ...                 4.0      Y                12              8   \n",
      "...      ...  ...                 ...    ...               ...            ...   \n",
      "4405  Female  ...                 3.0      Y                17              8   \n",
      "4406    Male  ...                 2.0      Y                15              8   \n",
      "4407    Male  ...                 0.0      Y                20              8   \n",
      "4408    Male  ...                 0.0      Y                14              8   \n",
      "4409    Male  ...                 0.0      Y                12              8   \n",
      "\n",
      "      StockOptionLevel TotalWorkingYears  TrainingTimesLastYear  \\\n",
      "0                    0               1.0                      6   \n",
      "1                    1               6.0                      3   \n",
      "2                    3               5.0                      2   \n",
      "3                    3              13.0                      5   \n",
      "4                    2               9.0                      2   \n",
      "...                ...               ...                    ...   \n",
      "4405                 1              10.0                      5   \n",
      "4406                 0              10.0                      2   \n",
      "4407                 0               5.0                      4   \n",
      "4408                 1              10.0                      2   \n",
      "4409                 0               NaN                      6   \n",
      "\n",
      "      YearsAtCompany  YearsSinceLastPromotion  YearsWithCurrManager  \n",
      "0                  1                        0                     0  \n",
      "1                  5                        1                     4  \n",
      "2                  5                        0                     3  \n",
      "3                  8                        7                     5  \n",
      "4                  6                        0                     4  \n",
      "...              ...                      ...                   ...  \n",
      "4405               3                        0                     2  \n",
      "4406               3                        0                     2  \n",
      "4407               4                        1                     2  \n",
      "4408               9                        7                     8  \n",
      "4409              21                        3                     9  \n",
      "\n",
      "[4410 rows x 24 columns]\n",
      "        Age  Attrition  BusinessTravel  Department  DistanceFromHome  \\\n",
      "0     False      False           False       False             False   \n",
      "1     False      False           False       False             False   \n",
      "2     False      False           False       False             False   \n",
      "3     False      False           False       False             False   \n",
      "4     False      False           False       False             False   \n",
      "...     ...        ...             ...         ...               ...   \n",
      "4405  False      False           False       False             False   \n",
      "4406  False      False           False       False             False   \n",
      "4407  False      False           False       False             False   \n",
      "4408  False      False           False       False             False   \n",
      "4409  False      False           False       False             False   \n",
      "\n",
      "      Education  EducationField  EmployeeCount  EmployeeID  Gender  ...  \\\n",
      "0         False           False          False       False   False  ...   \n",
      "1         False           False          False       False   False  ...   \n",
      "2         False           False          False       False   False  ...   \n",
      "3         False           False          False       False   False  ...   \n",
      "4         False           False          False       False   False  ...   \n",
      "...         ...             ...            ...         ...     ...  ...   \n",
      "4405      False           False          False       False   False  ...   \n",
      "4406      False           False          False       False   False  ...   \n",
      "4407      False           False          False       False   False  ...   \n",
      "4408      False           False          False       False   False  ...   \n",
      "4409      False           False          False       False   False  ...   \n",
      "\n",
      "      NumCompaniesWorked  Over18  PercentSalaryHike  StandardHours  \\\n",
      "0                  False   False              False          False   \n",
      "1                  False   False              False          False   \n",
      "2                  False   False              False          False   \n",
      "3                  False   False              False          False   \n",
      "4                  False   False              False          False   \n",
      "...                  ...     ...                ...            ...   \n",
      "4405               False   False              False          False   \n",
      "4406               False   False              False          False   \n",
      "4407               False   False              False          False   \n",
      "4408               False   False              False          False   \n",
      "4409               False   False              False          False   \n",
      "\n",
      "      StockOptionLevel  TotalWorkingYears  TrainingTimesLastYear  \\\n",
      "0                False              False                  False   \n",
      "1                False              False                  False   \n",
      "2                False              False                  False   \n",
      "3                False              False                  False   \n",
      "4                False              False                  False   \n",
      "...                ...                ...                    ...   \n",
      "4405             False              False                  False   \n",
      "4406             False              False                  False   \n",
      "4407             False              False                  False   \n",
      "4408             False              False                  False   \n",
      "4409             False               True                  False   \n",
      "\n",
      "      YearsAtCompany  YearsSinceLastPromotion  YearsWithCurrManager  \n",
      "0              False                    False                 False  \n",
      "1              False                    False                 False  \n",
      "2              False                    False                 False  \n",
      "3              False                    False                 False  \n",
      "4              False                    False                 False  \n",
      "...              ...                      ...                   ...  \n",
      "4405           False                    False                 False  \n",
      "4406           False                    False                 False  \n",
      "4407           False                    False                 False  \n",
      "4408           False                    False                 False  \n",
      "4409           False                    False                 False  \n",
      "\n",
      "[4410 rows x 24 columns]\n"
     ]
    }
   ],
   "source": [
    "import pandas as pd\n",
    "import numpy as np\n",
    "import matplotlib.pyplot as pt\n",
    "\n",
    "df1=pd.read_csv(\"E:\\day7\\general_data.csv\")\n",
    "\n",
    "print(df1)\n",
    "print(df1.isnull())\n"
   ]
  },
  {
   "cell_type": "code",
   "execution_count": 2,
   "metadata": {},
   "outputs": [
    {
     "data": {
      "text/plain": [
       "0       False\n",
       "1       False\n",
       "2       False\n",
       "3       False\n",
       "4       False\n",
       "        ...  \n",
       "4405    False\n",
       "4406    False\n",
       "4407    False\n",
       "4408    False\n",
       "4409    False\n",
       "Length: 4410, dtype: bool"
      ]
     },
     "execution_count": 2,
     "metadata": {},
     "output_type": "execute_result"
    }
   ],
   "source": [
    "df1.duplicated()"
   ]
  },
  {
   "cell_type": "code",
   "execution_count": 3,
   "metadata": {},
   "outputs": [
    {
     "data": {
      "text/plain": [
       "Index(['Age', 'Attrition', 'BusinessTravel', 'Department', 'DistanceFromHome',\n",
       "       'Education', 'EducationField', 'EmployeeCount', 'EmployeeID', 'Gender',\n",
       "       'JobLevel', 'JobRole', 'MaritalStatus', 'MonthlyIncome',\n",
       "       'NumCompaniesWorked', 'Over18', 'PercentSalaryHike', 'StandardHours',\n",
       "       'StockOptionLevel', 'TotalWorkingYears', 'TrainingTimesLastYear',\n",
       "       'YearsAtCompany', 'YearsSinceLastPromotion', 'YearsWithCurrManager'],\n",
       "      dtype='object')"
      ]
     },
     "execution_count": 3,
     "metadata": {},
     "output_type": "execute_result"
    }
   ],
   "source": [
    "df1.columns"
   ]
  },
  {
   "cell_type": "code",
   "execution_count": 4,
   "metadata": {},
   "outputs": [
    {
     "name": "stdout",
     "output_type": "stream",
     "text": [
      "               Age  DistanceFromHome    Education  MonthlyIncome  \\\n",
      "count  4410.000000       4410.000000  4410.000000    4410.000000   \n",
      "mean     36.923810          9.192517     2.912925   65029.312925   \n",
      "std       9.133301          8.105026     1.023933   47068.888559   \n",
      "min      18.000000          1.000000     1.000000   10090.000000   \n",
      "25%      30.000000          2.000000     2.000000   29110.000000   \n",
      "50%      36.000000          7.000000     3.000000   49190.000000   \n",
      "75%      43.000000         14.000000     4.000000   83800.000000   \n",
      "max      60.000000         29.000000     5.000000  199990.000000   \n",
      "\n",
      "       NumCompaniesWorked  PercentSalaryHike  TotalWorkingYears  \\\n",
      "count         4391.000000        4410.000000        4401.000000   \n",
      "mean             2.694830          15.209524          11.279936   \n",
      "std              2.498887           3.659108           7.782222   \n",
      "min              0.000000          11.000000           0.000000   \n",
      "25%              1.000000          12.000000           6.000000   \n",
      "50%              2.000000          14.000000          10.000000   \n",
      "75%              4.000000          18.000000          15.000000   \n",
      "max              9.000000          25.000000          40.000000   \n",
      "\n",
      "       TrainingTimesLastYear  YearsAtCompany  YearsSinceLastPromotion  \\\n",
      "count            4410.000000     4410.000000              4410.000000   \n",
      "mean                2.799320        7.008163                 2.187755   \n",
      "std                 1.288978        6.125135                 3.221699   \n",
      "min                 0.000000        0.000000                 0.000000   \n",
      "25%                 2.000000        3.000000                 0.000000   \n",
      "50%                 3.000000        5.000000                 1.000000   \n",
      "75%                 3.000000        9.000000                 3.000000   \n",
      "max                 6.000000       40.000000                15.000000   \n",
      "\n",
      "       YearsWithCurrManager  \n",
      "count           4410.000000  \n",
      "mean               4.123129  \n",
      "std                3.567327  \n",
      "min                0.000000  \n",
      "25%                2.000000  \n",
      "50%                3.000000  \n",
      "75%                7.000000  \n",
      "max               17.000000  \n"
     ]
    }
   ],
   "source": [
    "df2=df1[['Age', 'DistanceFromHome','Education', 'MonthlyIncome','NumCompaniesWorked', 'PercentSalaryHike',  'TotalWorkingYears', 'TrainingTimesLastYear',\n",
    "       'YearsAtCompany', 'YearsSinceLastPromotion', 'YearsWithCurrManager']].describe()\n",
    "\n",
    "print(df2)"
   ]
  },
  {
   "cell_type": "code",
   "execution_count": 5,
   "metadata": {},
   "outputs": [
    {
     "name": "stdout",
     "output_type": "stream",
     "text": [
      "Age                           36.0\n",
      "DistanceFromHome               7.0\n",
      "Education                      3.0\n",
      "MonthlyIncome              49190.0\n",
      "NumCompaniesWorked             2.0\n",
      "PercentSalaryHike             14.0\n",
      "TotalWorkingYears             10.0\n",
      "TrainingTimesLastYear          3.0\n",
      "YearsAtCompany                 5.0\n",
      "YearsSinceLastPromotion        1.0\n",
      "YearsWithCurrManager           3.0\n",
      "dtype: float64\n"
     ]
    }
   ],
   "source": [
    "df3=df1[['Age', 'DistanceFromHome','Education', 'MonthlyIncome','NumCompaniesWorked', 'PercentSalaryHike',  'TotalWorkingYears', 'TrainingTimesLastYear',\n",
    "       'YearsAtCompany', 'YearsSinceLastPromotion', 'YearsWithCurrManager']].median()\n",
    "\n",
    "print(df3)"
   ]
  },
  {
   "cell_type": "code",
   "execution_count": 6,
   "metadata": {},
   "outputs": [
    {
     "name": "stdout",
     "output_type": "stream",
     "text": [
      "   Age  DistanceFromHome  Education  MonthlyIncome  NumCompaniesWorked  \\\n",
      "0   35                 2          3          23420                 1.0   \n",
      "\n",
      "   PercentSalaryHike  TotalWorkingYears  TrainingTimesLastYear  \\\n",
      "0                 11               10.0                      2   \n",
      "\n",
      "   YearsAtCompany  YearsSinceLastPromotion  YearsWithCurrManager  \n",
      "0               5                        0                     2  \n"
     ]
    }
   ],
   "source": [
    "df4=df1[['Age', 'DistanceFromHome','Education', 'MonthlyIncome','NumCompaniesWorked', 'PercentSalaryHike',  'TotalWorkingYears', 'TrainingTimesLastYear',\n",
    "       'YearsAtCompany', 'YearsSinceLastPromotion', 'YearsWithCurrManager']].mode()\n",
    "\n",
    "print(df4)"
   ]
  },
  {
   "cell_type": "code",
   "execution_count": 7,
   "metadata": {},
   "outputs": [
    {
     "name": "stdout",
     "output_type": "stream",
     "text": [
      "Age                        8.341719e+01\n",
      "DistanceFromHome           6.569144e+01\n",
      "Education                  1.048438e+00\n",
      "MonthlyIncome              2.215480e+09\n",
      "NumCompaniesWorked         6.244436e+00\n",
      "PercentSalaryHike          1.338907e+01\n",
      "TotalWorkingYears          6.056298e+01\n",
      "TrainingTimesLastYear      1.661465e+00\n",
      "YearsAtCompany             3.751728e+01\n",
      "YearsSinceLastPromotion    1.037935e+01\n",
      "YearsWithCurrManager       1.272582e+01\n",
      "dtype: float64\n"
     ]
    }
   ],
   "source": [
    "df5=df1[['Age', 'DistanceFromHome','Education', 'MonthlyIncome','NumCompaniesWorked', 'PercentSalaryHike',  'TotalWorkingYears', 'TrainingTimesLastYear',\n",
    "       'YearsAtCompany', 'YearsSinceLastPromotion', 'YearsWithCurrManager']].var()\n",
    "\n",
    "print(df5)"
   ]
  },
  {
   "cell_type": "code",
   "execution_count": 8,
   "metadata": {},
   "outputs": [
    {
     "name": "stdout",
     "output_type": "stream",
     "text": [
      "Age                        0.413005\n",
      "DistanceFromHome           0.957466\n",
      "Education                 -0.289484\n",
      "MonthlyIncome              1.368884\n",
      "NumCompaniesWorked         1.026767\n",
      "PercentSalaryHike          0.820569\n",
      "TotalWorkingYears          1.116832\n",
      "TrainingTimesLastYear      0.552748\n",
      "YearsAtCompany             1.763328\n",
      "YearsSinceLastPromotion    1.982939\n",
      "YearsWithCurrManager       0.832884\n",
      "dtype: float64\n"
     ]
    }
   ],
   "source": [
    "df6=df1[['Age', 'DistanceFromHome','Education', 'MonthlyIncome','NumCompaniesWorked', 'PercentSalaryHike',  'TotalWorkingYears', 'TrainingTimesLastYear',\n",
    "       'YearsAtCompany', 'YearsSinceLastPromotion', 'YearsWithCurrManager']].skew()\n",
    "\n",
    "print(df6)"
   ]
  },
  {
   "cell_type": "code",
   "execution_count": 9,
   "metadata": {},
   "outputs": [
    {
     "name": "stdout",
     "output_type": "stream",
     "text": [
      "Age                       -0.405951\n",
      "DistanceFromHome          -0.227045\n",
      "Education                 -0.560569\n",
      "MonthlyIncome              1.000232\n",
      "NumCompaniesWorked         0.007287\n",
      "PercentSalaryHike         -0.302638\n",
      "TotalWorkingYears          0.912936\n",
      "TrainingTimesLastYear      0.491149\n",
      "YearsAtCompany             3.923864\n",
      "YearsSinceLastPromotion    3.601761\n",
      "YearsWithCurrManager       0.167949\n",
      "dtype: float64\n"
     ]
    }
   ],
   "source": [
    "df7=df1[['Age', 'DistanceFromHome','Education', 'MonthlyIncome','NumCompaniesWorked', 'PercentSalaryHike',  'TotalWorkingYears', 'TrainingTimesLastYear',\n",
    "       'YearsAtCompany', 'YearsSinceLastPromotion', 'YearsWithCurrManager']].kurt()\n",
    "\n",
    "print(df7)"
   ]
  },
  {
   "cell_type": "code",
   "execution_count": 10,
   "metadata": {},
   "outputs": [
    {
     "data": {
      "text/plain": [
       "Age                            9.133301\n",
       "DistanceFromHome               8.105026\n",
       "Education                      1.023933\n",
       "EmployeeCount                  0.000000\n",
       "EmployeeID                  1273.201673\n",
       "JobLevel                       1.106689\n",
       "MonthlyIncome              47068.888559\n",
       "NumCompaniesWorked             2.498887\n",
       "PercentSalaryHike              3.659108\n",
       "StandardHours                  0.000000\n",
       "StockOptionLevel               0.851883\n",
       "TotalWorkingYears              7.782222\n",
       "TrainingTimesLastYear          1.288978\n",
       "YearsAtCompany                 6.125135\n",
       "YearsSinceLastPromotion        3.221699\n",
       "YearsWithCurrManager           3.567327\n",
       "dtype: float64"
      ]
     },
     "execution_count": 10,
     "metadata": {},
     "output_type": "execute_result"
    }
   ],
   "source": [
    "df1.std()"
   ]
  },
  {
   "cell_type": "code",
   "execution_count": 11,
   "metadata": {},
   "outputs": [
    {
     "name": "stdout",
     "output_type": "stream",
     "text": [
      "{'whiskers': [<matplotlib.lines.Line2D object at 0x097C0430>, <matplotlib.lines.Line2D object at 0x097C07B0>], 'caps': [<matplotlib.lines.Line2D object at 0x097C09F0>, <matplotlib.lines.Line2D object at 0x097C0C50>], 'boxes': [<matplotlib.lines.Line2D object at 0x097C0410>], 'medians': [<matplotlib.lines.Line2D object at 0x097C0EB0>], 'fliers': [<matplotlib.lines.Line2D object at 0x097D33B0>], 'means': []}\n"
     ]
    },
    {
     "data": {
      "image/png": "[encoded data removed]",
      "text/plain": [
       "<Figure size 432x288 with 1 Axes>"
      ]
     },
     "metadata": {
      "needs_background": "light"
     },
     "output_type": "display_data"
    }
   ],
   "source": [
    "import pandas as pd\n",
    "import numpy as np\n",
    "import matplotlib.pyplot as pt\n",
    "df1=pd.read_csv(\"E:\\day7\\general_data.csv\")\n",
    "\n",
    "print(pt.boxplot(df1.Education))"
   ]
  },
  {
   "cell_type": "markdown",
   "metadata": {},
   "source": [
    "### inference 1 \n",
    "\n",
    "skewness - skewness of education is negative and all the other variables are positive skewness"
   ]
  },
  {
   "cell_type": "code",
   "execution_count": 12,
   "metadata": {},
   "outputs": [
    {
     "name": "stdout",
     "output_type": "stream",
     "text": [
      "{'whiskers': [<matplotlib.lines.Line2D object at 0x09E98B50>, <matplotlib.lines.Line2D object at 0x09E98E10>], 'caps': [<matplotlib.lines.Line2D object at 0x03F932D0>, <matplotlib.lines.Line2D object at 0x03F93530>], 'boxes': [<matplotlib.lines.Line2D object at 0x09E98B30>], 'medians': [<matplotlib.lines.Line2D object at 0x03F937F0>], 'fliers': [<matplotlib.lines.Line2D object at 0x03F93A10>], 'means': []}\n"
     ]
    },
    {
     "data": {
      "image/png": "[encoded data removed]",
      "text/plain": [
       "<Figure size 432x288 with 1 Axes>"
      ]
     },
     "metadata": {
      "needs_background": "light"
     },
     "output_type": "display_data"
    }
   ],
   "source": [
    "print(pt.boxplot(df1.MonthlyIncome))"
   ]
  },
  {
   "cell_type": "markdown",
   "metadata": {},
   "source": [
    "Monthly income is right skewed with some outliers"
   ]
  },
  {
   "cell_type": "code",
   "execution_count": 13,
   "metadata": {},
   "outputs": [
    {
     "name": "stdout",
     "output_type": "stream",
     "text": [
      "{'whiskers': [<matplotlib.lines.Line2D object at 0x03FD4350>, <matplotlib.lines.Line2D object at 0x03FD45D0>], 'caps': [<matplotlib.lines.Line2D object at 0x03FD4830>, <matplotlib.lines.Line2D object at 0x03FD4A90>], 'boxes': [<matplotlib.lines.Line2D object at 0x03FC8F90>], 'medians': [<matplotlib.lines.Line2D object at 0x03FD4D50>], 'fliers': [<matplotlib.lines.Line2D object at 0x03FD4F70>], 'means': []}\n"
     ]
    },
    {
     "data": {
      "image/png": "[encoded data removed]",
      "text/plain": [
       "<Figure size 432x288 with 1 Axes>"
      ]
     },
     "metadata": {
      "needs_background": "light"
     },
     "output_type": "display_data"
    }
   ],
   "source": [
    "print(pt.boxplot(df1.YearsAtCompany))"
   ]
  },
  {
   "cell_type": "markdown",
   "metadata": {},
   "source": [
    " YearsAtCompany is right skewed with some outliers"
   ]
  },
  {
   "cell_type": "code",
   "execution_count": 2,
   "metadata": {},
   "outputs": [
    {
     "name": "stdout",
     "output_type": "stream",
     "text": [
      "   Age  Attrition     BusinessTravel              Department  \\\n",
      "0   51          0      Travel_Rarely                   Sales   \n",
      "2   32          0  Travel_Frequently  Research & Development   \n",
      "3   38          0         Non-Travel  Research & Development   \n",
      "4   32          0      Travel_Rarely  Research & Development   \n",
      "5   46          0      Travel_Rarely  Research & Development   \n",
      "\n",
      "   DistanceFromHome  Education EducationField  EmployeeCount  EmployeeID  \\\n",
      "0                 6          2  Life Sciences              1           1   \n",
      "2                17          4          Other              1           3   \n",
      "3                 2          5  Life Sciences              1           4   \n",
      "4                10          1        Medical              1           5   \n",
      "5                 8          3  Life Sciences              1           6   \n",
      "\n",
      "   Gender  ...  NumCompaniesWorked Over18 PercentSalaryHike  StandardHours  \\\n",
      "0  Female  ...                 1.0      Y                11              8   \n",
      "2    Male  ...                 1.0      Y                15              8   \n",
      "3    Male  ...                 3.0      Y                11              8   \n",
      "4    Male  ...                 4.0      Y                12              8   \n",
      "5  Female  ...                 3.0      Y                13              8   \n",
      "\n",
      "   StockOptionLevel TotalWorkingYears  TrainingTimesLastYear  YearsAtCompany  \\\n",
      "0                 0               1.0                      6               1   \n",
      "2                 3               5.0                      2               5   \n",
      "3                 3              13.0                      5               8   \n",
      "4                 2               9.0                      2               6   \n",
      "5                 0              28.0                      5               7   \n",
      "\n",
      "   YearsSinceLastPromotion  YearsWithCurrManager  \n",
      "0                        0                     0  \n",
      "2                        0                     3  \n",
      "3                        7                     5  \n",
      "4                        0                     4  \n",
      "5                        7                     7  \n",
      "\n",
      "[5 rows x 24 columns]\n",
      "    Age  Attrition     BusinessTravel              Department  \\\n",
      "1    31          1  Travel_Frequently  Research & Development   \n",
      "6    28          1      Travel_Rarely  Research & Development   \n",
      "13   47          1         Non-Travel  Research & Development   \n",
      "28   44          1  Travel_Frequently  Research & Development   \n",
      "30   26          1      Travel_Rarely  Research & Development   \n",
      "\n",
      "    DistanceFromHome  Education EducationField  EmployeeCount  EmployeeID  \\\n",
      "1                 10          1  Life Sciences              1           2   \n",
      "6                 11          2        Medical              1           7   \n",
      "13                 1          1        Medical              1          14   \n",
      "28                 1          2        Medical              1          29   \n",
      "30                 4          3        Medical              1          31   \n",
      "\n",
      "    Gender  ...  NumCompaniesWorked Over18 PercentSalaryHike  StandardHours  \\\n",
      "1   Female  ...                 0.0      Y                23              8   \n",
      "6     Male  ...                 2.0      Y                20              8   \n",
      "13    Male  ...                 1.0      Y                11              8   \n",
      "28    Male  ...                 3.0      Y                14              8   \n",
      "30    Male  ...                 2.0      Y                11              8   \n",
      "\n",
      "    StockOptionLevel TotalWorkingYears  TrainingTimesLastYear  YearsAtCompany  \\\n",
      "1                  1               6.0                      3               5   \n",
      "6                  1               5.0                      2               0   \n",
      "13                 2              10.0                      4              10   \n",
      "28                 1              19.0                      2               1   \n",
      "30                 0               5.0                      5               3   \n",
      "\n",
      "    YearsSinceLastPromotion  YearsWithCurrManager  \n",
      "1                         1                     4  \n",
      "6                         0                     0  \n",
      "13                        9                     9  \n",
      "28                        0                     0  \n",
      "30                        0                     2  \n",
      "\n",
      "[5 rows x 24 columns]\n",
      "0.0 0.0\n"
     ]
    }
   ],
   "source": [
    "import pandas as pd\n",
    "import numpy as np\n",
    "import matplotlib.pyplot as pt\n",
    "from scipy.stats import mannwhitneyu\n",
    "\n",
    "df1=pd.read_csv(\"E:\\day7\\general_data.csv\")\n",
    "\n",
    "\n",
    "label2={\"Yes\":1,\"No\":0}\n",
    "df1.Attrition=df1.Attrition.map(label2)\n",
    "\n",
    "data2=df1[df1[\"Attrition\"]==0]\n",
    "print(data2.head())\n",
    "data3=df1[df1[\"Attrition\"]==1]\n",
    "print(data3.head())\n",
    "\n",
    "\n",
    "\n",
    "\n",
    "stats,p=mannwhitneyu(data2.Attrition,data3.Attrition)\n",
    "print(stats,p)"
   ]
  },
  {
   "cell_type": "code",
   "execution_count": null,
   "metadata": {},
   "outputs": [],
   "source": []
  },
  {
   "cell_type": "markdown",
   "metadata": {},
   "source": [
    "# statistical tests"
   ]
  },
  {
   "cell_type": "code",
   "execution_count": 15,
   "metadata": {},
   "outputs": [
    {
     "name": "stdout",
     "output_type": "stream",
     "text": [
      "1312110.0 0.4629185205822659\n"
     ]
    }
   ],
   "source": [
    "\n",
    "stats,p=mannwhitneyu(data2.DistanceFromHome,data3.DistanceFromHome)\n",
    "print(stats,p)"
   ]
  },
  {
   "cell_type": "markdown",
   "metadata": {},
   "source": [
    "##  mannwhitneyu attrition and DistanceFromHome\n",
    "\n",
    "from the above cell ,  as the p value is greater than 0.05 , hence accepted the null hythoesis \n",
    "There is no significant difference in distance from home between attrition yes and attrition no "
   ]
  },
  {
   "cell_type": "code",
   "execution_count": 38,
   "metadata": {},
   "outputs": [
    {
     "name": "stdout",
     "output_type": "stream",
     "text": [
      "1264900.5 0.053577283839938566\n"
     ]
    }
   ],
   "source": [
    "\n",
    "stats,p=mannwhitneyu(data2.MonthlyIncome,data3.MonthlyIncome)\n",
    "print(stats,p)"
   ]
  },
  {
   "cell_type": "markdown",
   "metadata": {},
   "source": [
    "##  mannwhitneyu attrition and MonthlyIncome\n",
    "\n",
    "from the above cell ,  as the p value is equal to 0.05 , hence accepted the null hythoesis \n",
    "There is no significant difference in MonthlyIncome between attrition yes and attrition no "
   ]
  },
  {
   "cell_type": "code",
   "execution_count": 39,
   "metadata": {},
   "outputs": [
    {
     "name": "stdout",
     "output_type": "stream",
     "text": [
      "909958.0 2.894653260702919e-39\n"
     ]
    }
   ],
   "source": [
    "\n",
    "stats,p=mannwhitneyu(data2.TotalWorkingYears,data3.TotalWorkingYears)\n",
    "print(stats,p)"
   ]
  },
  {
   "cell_type": "markdown",
   "metadata": {},
   "source": [
    "##  mannwhitneyu attrition and TotalWorkingYears\n",
    "\n",
    "from the above cell ,  as the p value is less than 0.05 , hence rejected the null hythoesis, accepted alternate hypothesis\n",
    "There is significant difference in Total Working Years between attrition yes and attrition no "
   ]
  },
  {
   "cell_type": "code",
   "execution_count": 3,
   "metadata": {},
   "outputs": [
    {
     "name": "stdout",
     "output_type": "stream",
     "text": [
      "923238.0 6.047598261693028e-37\n"
     ]
    }
   ],
   "source": [
    "stats,p=mannwhitneyu(data2.YearsAtCompany,data3.YearsAtCompany)\n",
    "print(stats,p)"
   ]
  },
  {
   "cell_type": "markdown",
   "metadata": {},
   "source": [
    "## mannwhitneyu attrition and yearsat company\n",
    "\n",
    "from the above cell , as the p value is less than 0.05 , hence rejected the null hythoesis, accepted alternate hypothesis There is significant difference in YearsAtCompany between attrition yes and attrition no"
   ]
  },
  {
   "cell_type": "code",
   "execution_count": 4,
   "metadata": {},
   "outputs": [
    {
     "name": "stdout",
     "output_type": "stream",
     "text": [
      "957253.5 1.2365483142169503e-31\n"
     ]
    }
   ],
   "source": [
    "stats,p=mannwhitneyu(data2.YearsWithCurrManager,data3.YearsWithCurrManager)\n",
    "print(stats,p)"
   ]
  },
  {
   "cell_type": "markdown",
   "metadata": {},
   "source": [
    "## mannwhitneyu attrition and YearsWithCurrManager\n",
    "\n",
    "from the above cell , as the p value is less than 0.05 , hence rejected the null hythoesis, accepted alternate hypothesis There is significant difference in YearsWithCurrManager between attrition yes and attrition no\n"
   ]
  },
  {
   "cell_type": "code",
   "execution_count": null,
   "metadata": {},
   "outputs": [],
   "source": []
  },
  {
   "cell_type": "markdown",
   "metadata": {},
   "source": [
    "## statistical tests (T test)"
   ]
  },
  {
   "cell_type": "markdown",
   "metadata": {},
   "source": [
    "from the below data, p>0.05 accept null hypothesis, there is no significant  difference in distance from home between the attrition yes and attrition no"
   ]
  },
  {
   "cell_type": "code",
   "execution_count": 9,
   "metadata": {},
   "outputs": [
    {
     "name": "stdout",
     "output_type": "stream",
     "text": [
      "0.6460416038042738 0.518286042805572\n"
     ]
    }
   ],
   "source": [
    "from scipy.stats import ttest_ind\n",
    "s1=data2.DistanceFromHome\n",
    "s2=data3.DistanceFromHome\n",
    "\n",
    "stat,p=ttest_ind(s1,s2)\n",
    "print(stat,p)"
   ]
  },
  {
   "cell_type": "markdown",
   "metadata": {},
   "source": [
    "from the below data, p<0.05 reject null hypothesis, there is significant  difference in MonthlyIncome between the attrition yes and attrition no"
   ]
  },
  {
   "cell_type": "code",
   "execution_count": 10,
   "metadata": {},
   "outputs": [
    {
     "name": "stdout",
     "output_type": "stream",
     "text": [
      "2.0708863763619316 0.03842748490605113\n"
     ]
    }
   ],
   "source": [
    "from scipy.stats import ttest_ind\n",
    "s1=data2.MonthlyIncome\n",
    "s2=data3.MonthlyIncome\n",
    "\n",
    "stat,p=ttest_ind(s1,s2)\n",
    "print(stat,p)"
   ]
  },
  {
   "cell_type": "markdown",
   "metadata": {},
   "source": [
    "from the below data, p<0.05 reject null hypothesis, there is significant  difference in YearsAtCompany between the attrition yes and attrition no"
   ]
  },
  {
   "cell_type": "code",
   "execution_count": 19,
   "metadata": {},
   "outputs": [
    {
     "name": "stdout",
     "output_type": "stream",
     "text": [
      "9.004357011787226 3.163883122491456e-19\n"
     ]
    }
   ],
   "source": [
    "from scipy.stats import ttest_ind\n",
    "\n",
    "s1=data2.YearsAtCompany\n",
    "s2=data3.YearsAtCompany\n",
    "\n",
    "\n",
    "stat,p=ttest_ind(s1,s2)\n",
    "print(stat,p)"
   ]
  },
  {
   "cell_type": "markdown",
   "metadata": {},
   "source": [
    "from the below data, p<0.05 reject null hypothesis, there is significant  difference in YearsWithCurrManager between the attrition yes and attrition no"
   ]
  },
  {
   "cell_type": "code",
   "execution_count": 18,
   "metadata": {},
   "outputs": [
    {
     "name": "stdout",
     "output_type": "stream",
     "text": [
      "10.499379408703438 1.7339322652918153e-25\n"
     ]
    }
   ],
   "source": [
    "from scipy.stats import ttest_ind\n",
    "s1=data2.YearsWithCurrManager\n",
    "s2=data3.YearsWithCurrManager\n",
    "\n",
    "stat,p=ttest_ind(s1,s2)\n",
    "print(stat,p)"
   ]
  },
  {
   "cell_type": "markdown",
   "metadata": {},
   "source": [
    "#  corelation analysis "
   ]
  },
  {
   "cell_type": "code",
   "execution_count": 24,
   "metadata": {},
   "outputs": [
    {
     "name": "stdout",
     "output_type": "stream",
     "text": [
      "-0.009730141010179723 0.5182860428049525\n"
     ]
    }
   ],
   "source": [
    "\n",
    "from scipy.stats import pearsonr\n",
    "df1['TotalWorkingYears']=df1['TotalWorkingYears'].fillna(11.28)\n",
    "\n",
    "stats,p=pearsonr(df1.Attrition,df1.DistanceFromHome)\n",
    "print(stats,p)"
   ]
  },
  {
   "cell_type": "code",
   "execution_count": 25,
   "metadata": {},
   "outputs": [
    {
     "name": "stdout",
     "output_type": "stream",
     "text": [
      "-0.17011136355965148 5.473159751793494e-30\n"
     ]
    }
   ],
   "source": [
    "stats,p=pearsonr(df1.Attrition,df1.TotalWorkingYears)\n",
    "print(stats,p)"
   ]
  },
  {
   "cell_type": "code",
   "execution_count": 26,
   "metadata": {},
   "outputs": [
    {
     "name": "stdout",
     "output_type": "stream",
     "text": [
      "-0.031176281698115073 0.03842748490600132\n"
     ]
    }
   ],
   "source": [
    "stats,p=pearsonr(df1.Attrition,df1.MonthlyIncome)\n",
    "print(stats,p)"
   ]
  },
  {
   "cell_type": "code",
   "execution_count": 27,
   "metadata": {},
   "outputs": [
    {
     "name": "stdout",
     "output_type": "stream",
     "text": [
      "-0.15619931590162853 1.7339322652896276e-25\n"
     ]
    }
   ],
   "source": [
    "stats,p=pearsonr(df1.Attrition,df1.YearsWithCurrManager)\n",
    "print(stats,p)"
   ]
  },
  {
   "cell_type": "code",
   "execution_count": 29,
   "metadata": {},
   "outputs": [
    {
     "name": "stdout",
     "output_type": "stream",
     "text": [
      "-0.13439221398997736 3.163883122488445e-19\n"
     ]
    }
   ],
   "source": [
    "stats,p=pearsonr(df1.Attrition,df1.YearsAtCompany)\n",
    "print(stats,p)"
   ]
  },
  {
   "cell_type": "markdown",
   "metadata": {},
   "source": [
    "# from corelation calculation, analysis as follows \n",
    "\n",
    "1. attrition and distance from home \n",
    "    there is low negative corelation : -0.09\n",
    "    \n",
    "2. attrition and total working years\n",
    "    there is low nagative corelation : -0.17\n",
    "    \n",
    "3. attrition and monthly income \n",
    "     there is low nagative corelation : -0.03\n",
    "     \n",
    "4. attrition and YearsWithCurrManager\n",
    "     there is low nagative corelation : -0.15\n",
    "     \n",
    "5. attrition and YearsAtCompany\n",
    "     there is low nagative corelation : -0.13\n",
    "    "
   ]
  },
  {
   "cell_type": "markdown",
   "metadata": {},
   "source": []
  },
  {
   "cell_type": "markdown",
   "metadata": {},
   "source": []
  },
  {
   "cell_type": "markdown",
   "metadata": {},
   "source": []
  },
  {
   "cell_type": "code",
   "execution_count": 17,
   "metadata": {},
   "outputs": [
    {
     "data": {
      "text/plain": [
       "Index(['Age', 'Attrition', 'BusinessTravel', 'Department', 'DistanceFromHome',\n",
       "       'Education', 'EducationField', 'EmployeeCount', 'EmployeeID', 'Gender',\n",
       "       'JobLevel', 'JobRole', 'MaritalStatus', 'MonthlyIncome',\n",
       "       'NumCompaniesWorked', 'Over18', 'PercentSalaryHike', 'StandardHours',\n",
       "       'StockOptionLevel', 'TotalWorkingYears', 'TrainingTimesLastYear',\n",
       "       'YearsAtCompany', 'YearsSinceLastPromotion', 'YearsWithCurrManager'],\n",
       "      dtype='object')"
      ]
     },
     "execution_count": 17,
     "metadata": {},
     "output_type": "execute_result"
    }
   ],
   "source": [
    "data2.columns"
   ]
  },
  {
   "cell_type": "code",
   "execution_count": 19,
   "metadata": {},
   "outputs": [
    {
     "data": {
      "text/plain": [
       "Index(['Age', 'Attrition', 'BusinessTravel', 'Department', 'DistanceFromHome',\n",
       "       'Education', 'EducationField', 'EmployeeCount', 'EmployeeID', 'Gender',\n",
       "       'JobLevel', 'JobRole', 'MaritalStatus', 'MonthlyIncome',\n",
       "       'NumCompaniesWorked', 'Over18', 'PercentSalaryHike', 'StandardHours',\n",
       "       'StockOptionLevel', 'TotalWorkingYears', 'TrainingTimesLastYear',\n",
       "       'YearsAtCompany', 'YearsSinceLastPromotion', 'YearsWithCurrManager'],\n",
       "      dtype='object')"
      ]
     },
     "execution_count": 19,
     "metadata": {},
     "output_type": "execute_result"
    }
   ],
   "source": [
    "data3.columns"
   ]
  },
  {
   "cell_type": "code",
   "execution_count": 28,
   "metadata": {},
   "outputs": [
    {
     "name": "stdout",
     "output_type": "stream",
     "text": [
      "Age                        37.561233\n",
      "DistanceFromHome            9.227088\n",
      "MonthlyIncome           65672.595296\n",
      "TotalWorkingYears          11.860780\n",
      "YearsAtCompany              7.369019\n",
      "YearsWithCurrManager        4.367397\n",
      "dtype: float64\n"
     ]
    }
   ],
   "source": [
    "data4=data2[['Age','DistanceFromHome','MonthlyIncome','TotalWorkingYears','YearsAtCompany','YearsWithCurrManager']].mean()\n",
    "            \n",
    "print(data4)"
   ]
  },
  {
   "cell_type": "code",
   "execution_count": 31,
   "metadata": {},
   "outputs": [
    {
     "name": "stdout",
     "output_type": "stream",
     "text": [
      "Age                        36.0\n",
      "DistanceFromHome            7.0\n",
      "MonthlyIncome           49300.0\n",
      "TotalWorkingYears          10.0\n",
      "YearsAtCompany              6.0\n",
      "YearsWithCurrManager        3.0\n",
      "dtype: float64\n"
     ]
    }
   ],
   "source": [
    "data5=data2[['Age','DistanceFromHome','MonthlyIncome','TotalWorkingYears','YearsAtCompany','YearsWithCurrManager']].median()\n",
    "print(data5)"
   ]
  },
  {
   "cell_type": "code",
   "execution_count": 32,
   "metadata": {},
   "outputs": [
    {
     "name": "stdout",
     "output_type": "stream",
     "text": [
      "Age                        33.607595\n",
      "DistanceFromHome            9.012658\n",
      "MonthlyIncome           61682.616034\n",
      "TotalWorkingYears           8.255289\n",
      "YearsAtCompany              5.130802\n",
      "YearsWithCurrManager        2.852321\n",
      "dtype: float64\n"
     ]
    }
   ],
   "source": [
    "data41=data3[['Age','DistanceFromHome','MonthlyIncome','TotalWorkingYears','YearsAtCompany','YearsWithCurrManager']].mean()\n",
    "            \n",
    "print(data41)"
   ]
  },
  {
   "cell_type": "code",
   "execution_count": 34,
   "metadata": {},
   "outputs": [
    {
     "name": "stdout",
     "output_type": "stream",
     "text": [
      "Age                        32.0\n",
      "DistanceFromHome            7.0\n",
      "MonthlyIncome           49080.0\n",
      "TotalWorkingYears           7.0\n",
      "YearsAtCompany              3.0\n",
      "YearsWithCurrManager        2.0\n",
      "dtype: float64\n"
     ]
    }
   ],
   "source": [
    "data51=data3[['Age','DistanceFromHome','MonthlyIncome','TotalWorkingYears','YearsAtCompany','YearsWithCurrManager']].median()\n",
    "            \n",
    "print(data51)"
   ]
  },
  {
   "cell_type": "code",
   "execution_count": 36,
   "metadata": {},
   "outputs": [
    {
     "name": "stdout",
     "output_type": "stream",
     "text": [
      "{'whiskers': [<matplotlib.lines.Line2D object at 0x0DBC2EF0>, <matplotlib.lines.Line2D object at 0x0DBC02F0>], 'caps': [<matplotlib.lines.Line2D object at 0x0DBC0290>, <matplotlib.lines.Line2D object at 0x0DBE0530>], 'boxes': [<matplotlib.lines.Line2D object at 0x0DBED570>], 'medians': [<matplotlib.lines.Line2D object at 0x0DBF05D0>], 'fliers': [<matplotlib.lines.Line2D object at 0x0DBD3090>], 'means': []}\n"
     ]
    },
    {
     "data": {
      "image/png": "[encoded data removed]",
      "text/plain": [
       "<Figure size 432x288 with 1 Axes>"
      ]
     },
     "metadata": {
      "needs_background": "light"
     },
     "output_type": "display_data"
    }
   ],
   "source": [
    "print(pt.boxplot(data2.Age))"
   ]
  },
  {
   "cell_type": "code",
   "execution_count": 37,
   "metadata": {},
   "outputs": [
    {
     "name": "stdout",
     "output_type": "stream",
     "text": [
      "{'whiskers': [<matplotlib.lines.Line2D object at 0x0DBAAC50>, <matplotlib.lines.Line2D object at 0x0DBAA910>], 'caps': [<matplotlib.lines.Line2D object at 0x0DBAABF0>, <matplotlib.lines.Line2D object at 0x0DBAADB0>], 'boxes': [<matplotlib.lines.Line2D object at 0x0DBAE9B0>], 'medians': [<matplotlib.lines.Line2D object at 0x0DBAA0B0>], 'fliers': [<matplotlib.lines.Line2D object at 0x0DBAA550>], 'means': []}\n"
     ]
    },
    {
     "data": {
      "image/png": "[encoded data removed]",
      "text/plain": [
       "<Figure size 432x288 with 1 Axes>"
      ]
     },
     "metadata": {
      "needs_background": "light"
     },
     "output_type": "display_data"
    }
   ],
   "source": [
    "print(pt.boxplot(data3.Age))"
   ]
  },
  {
   "cell_type": "markdown",
   "metadata": {},
   "source": [
    "from the above calulation and representation , we can say that all the variable of both data2 & data3 is postively skewed as mean is greater than meadian "
   ]
  },
  {
   "cell_type": "code",
   "execution_count": null,
   "metadata": {},
   "outputs": [],
   "source": [
    "\n"
   ]
  },
  {
   "cell_type": "code",
   "execution_count": null,
   "metadata": {},
   "outputs": [],
   "source": []
  }
 ],
 "metadata": {
  "kernelspec": {
   "display_name": "Python 3",
   "language": "python",
   "name": "python3"
  },
  "language_info": {
   "codemirror_mode": {
    "name": "ipython",
    "version": 3
   },
   "file_extension": ".py",
   "mimetype": "text/x-python",
   "name": "python",
   "nbconvert_exporter": "python",
   "pygments_lexer": "ipython3",
   "version": "3.7.6"
  }
 },
 "nbformat": 4,
 "nbformat_minor": 4
}
