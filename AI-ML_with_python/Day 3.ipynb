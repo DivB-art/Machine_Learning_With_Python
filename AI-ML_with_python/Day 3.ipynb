{
 "cells": [
  {
   "cell_type": "code",
   "execution_count": 17,
   "metadata": {},
   "outputs": [
    {
     "name": "stdout",
     "output_type": "stream",
     "text": [
      "<class 'complex'>\n",
      "(-2-2j)\n"
     ]
    }
   ],
   "source": [
    "# subtraction of two complex numbers\n",
    "a= 3+4j\n",
    "b= 5+6J\n",
    "print(type(b))\n",
    "print(a-b)"
   ]
  },
  {
   "cell_type": "code",
   "execution_count": 7,
   "metadata": {},
   "outputs": [
    {
     "name": "stdout",
     "output_type": "stream",
     "text": [
      "2\n",
      "3\n",
      "3\n",
      "2\n"
     ]
    }
   ],
   "source": [
    "# swapping numbers using temporary variable\n",
    "a=2\n",
    "b=3\n",
    "print(a)\n",
    "print(b)\n",
    "c=a\n",
    "a=b\n",
    "b=c\n",
    "print(a)\n",
    "print(b)\n",
    "\n"
   ]
  },
  {
   "cell_type": "code",
   "execution_count": 10,
   "metadata": {},
   "outputs": [
    {
     "name": "stdout",
     "output_type": "stream",
     "text": [
      "10\n",
      "20\n",
      "20\n",
      "10\n"
     ]
    }
   ],
   "source": [
    "# swapping numbers without using temporary variable\n",
    "\n",
    "a=10\n",
    "b=20\n",
    "print(a)\n",
    "print(b)\n",
    "b=b+a\n",
    "a=b-a\n",
    "b=b-a\n",
    "print(a)\n",
    "print(b)\n"
   ]
  },
  {
   "cell_type": "code",
   "execution_count": 23,
   "metadata": {},
   "outputs": [
    {
     "name": "stdout",
     "output_type": "stream",
     "text": [
      "<class 'int'>\n",
      "<class 'float'>\n",
      "<class 'str'>\n",
      "<class 'list'>\n",
      "<class 'tuple'>\n",
      "<class 'complex'>\n",
      "<class 'dict'>\n",
      "<class 'set'>\n"
     ]
    }
   ],
   "source": [
    "# data types\n",
    "print(type(10))\n",
    "print(type(10.24))\n",
    "print(type(\"paul\"))\n",
    "print(type([10,20,30,40,50,60,70,80,90,\"walker\"]))\n",
    "print(type((10,20,30,40,50,60,70,80,90,\"walker\")))\n",
    "print(type(5+4J))\n",
    "print(type({\"name\":\"paul\",\"last_name\": \"walker\"}))\n",
    "print(type({10,20,30,40}))\n",
    "\n"
   ]
  },
  {
   "cell_type": "markdown",
   "metadata": {},
   "source": [
    "# github procedure\n",
    "\n",
    "1. log in to github\n",
    "2. create one  reporistory\n",
    "3. locally create a folders like (day1,day2) and upload into reporistory \n"
   ]
  },
  {
   "cell_type": "code",
   "execution_count": 30,
   "metadata": {},
   "outputs": [
    {
     "name": "stdout",
     "output_type": "stream",
     "text": [
      "310.9277777777778\n",
      "20.0\n"
     ]
    }
   ],
   "source": [
    "# fahrenheit to kelvin \n",
    "f=100\n",
    "k=(f+459.67) * (5/9)\n",
    "print(k)\n",
    "\n",
    "# fahrenheit to celsius\n",
    "f=68\n",
    "c=(f-32) * (5/9)\n",
    "print(c)\n"
   ]
  },
  {
   "cell_type": "code",
   "execution_count": 39,
   "metadata": {},
   "outputs": [
    {
     "name": "stdout",
     "output_type": "stream",
     "text": [
      "3.1622776601683795\n"
     ]
    }
   ],
   "source": [
    "# 4 th root of a number\n",
    "n=100\n",
    "root=n**0.25\n",
    "print(root)\n"
   ]
  },
  {
   "cell_type": "code",
   "execution_count": null,
   "metadata": {},
   "outputs": [],
   "source": []
  }
 ],
 "metadata": {
  "kernelspec": {
   "display_name": "Python 3",
   "language": "python",
   "name": "python3"
  },
  "language_info": {
   "codemirror_mode": {
    "name": "ipython",
    "version": 3
   },
   "file_extension": ".py",
   "mimetype": "text/x-python",
   "name": "python",
   "nbconvert_exporter": "python",
   "pygments_lexer": "ipython3",
   "version": "3.7.6"
  }
 },
 "nbformat": 4,
 "nbformat_minor": 4
}
