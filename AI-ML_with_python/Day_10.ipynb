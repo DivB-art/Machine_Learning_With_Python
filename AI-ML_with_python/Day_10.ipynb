{
 "cells": [
  {
   "cell_type": "markdown",
   "metadata": {},
   "source": [
    "hypothesis \n",
    "\n",
    "2. attrition dosen't depend on age \n",
    "3. attrition rate dosen't depend on the gender\n",
    "4. attrition rate depends on monthly income of the year\n",
    "5. monthly income dosen't depend on martial status\n",
    "6. attrition rate depends on distance from home \n",
    "7. attrition rate depends on job level\n",
    "8. attrition rate depends on job role\n",
    "9. attrition rate depends on percent salary hike \n",
    "10. attrition rate depends on total working years \n",
    "\n",
    "\n"
   ]
  }
 ],
 "metadata": {
  "kernelspec": {
   "display_name": "Python 3",
   "language": "python",
   "name": "python3"
  },
  "language_info": {
   "codemirror_mode": {
    "name": "ipython",
    "version": 3
   },
   "file_extension": ".py",
   "mimetype": "text/x-python",
   "name": "python",
   "nbconvert_exporter": "python",
   "pygments_lexer": "ipython3",
   "version": "3.7.6"
  }
 },
 "nbformat": 4,
 "nbformat_minor": 4
}
