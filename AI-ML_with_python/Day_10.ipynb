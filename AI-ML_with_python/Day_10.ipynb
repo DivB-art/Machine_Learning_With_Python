{
 "cells": [
  {
   "cell_type": "code",
   "execution_count": 4,
   "metadata": {},
   "outputs": [
    {
     "name": "stdout",
     "output_type": "stream",
     "text": [
      "      Age Attrition     BusinessTravel              Department  \\\n",
      "0      51        No      Travel_Rarely                   Sales   \n",
      "1      31       Yes  Travel_Frequently  Research & Development   \n",
      "2      32        No  Travel_Frequently  Research & Development   \n",
      "3      38        No         Non-Travel  Research & Development   \n",
      "4      32        No      Travel_Rarely  Research & Development   \n",
      "...   ...       ...                ...                     ...   \n",
      "4405   42        No      Travel_Rarely  Research & Development   \n",
      "4406   29        No      Travel_Rarely  Research & Development   \n",
      "4407   25        No      Travel_Rarely  Research & Development   \n",
      "4408   42        No      Travel_Rarely                   Sales   \n",
      "4409   40        No      Travel_Rarely  Research & Development   \n",
      "\n",
      "      DistanceFromHome  Education EducationField  EmployeeCount  EmployeeID  \\\n",
      "0                    6          2  Life Sciences              1           1   \n",
      "1                   10          1  Life Sciences              1           2   \n",
      "2                   17          4          Other              1           3   \n",
      "3                    2          5  Life Sciences              1           4   \n",
      "4                   10          1        Medical              1           5   \n",
      "...                ...        ...            ...            ...         ...   \n",
      "4405                 5          4        Medical              1        4406   \n",
      "4406                 2          4        Medical              1        4407   \n",
      "4407                25          2  Life Sciences              1        4408   \n",
      "4408                18          2        Medical              1        4409   \n",
      "4409                28          3        Medical              1        4410   \n",
      "\n",
      "      Gender  ...  NumCompaniesWorked Over18 PercentSalaryHike  StandardHours  \\\n",
      "0     Female  ...                 1.0      Y                11              8   \n",
      "1     Female  ...                 0.0      Y                23              8   \n",
      "2       Male  ...                 1.0      Y                15              8   \n",
      "3       Male  ...                 3.0      Y                11              8   \n",
      "4       Male  ...                 4.0      Y                12              8   \n",
      "...      ...  ...                 ...    ...               ...            ...   \n",
      "4405  Female  ...                 3.0      Y                17              8   \n",
      "4406    Male  ...                 2.0      Y                15              8   \n",
      "4407    Male  ...                 0.0      Y                20              8   \n",
      "4408    Male  ...                 0.0      Y                14              8   \n",
      "4409    Male  ...                 0.0      Y                12              8   \n",
      "\n",
      "      StockOptionLevel TotalWorkingYears  TrainingTimesLastYear  \\\n",
      "0                    0               1.0                      6   \n",
      "1                    1               6.0                      3   \n",
      "2                    3               5.0                      2   \n",
      "3                    3              13.0                      5   \n",
      "4                    2               9.0                      2   \n",
      "...                ...               ...                    ...   \n",
      "4405                 1              10.0                      5   \n",
      "4406                 0              10.0                      2   \n",
      "4407                 0               5.0                      4   \n",
      "4408                 1              10.0                      2   \n",
      "4409                 0               NaN                      6   \n",
      "\n",
      "      YearsAtCompany  YearsSinceLastPromotion  YearsWithCurrManager  \n",
      "0                  1                        0                     0  \n",
      "1                  5                        1                     4  \n",
      "2                  5                        0                     3  \n",
      "3                  8                        7                     5  \n",
      "4                  6                        0                     4  \n",
      "...              ...                      ...                   ...  \n",
      "4405               3                        0                     2  \n",
      "4406               3                        0                     2  \n",
      "4407               4                        1                     2  \n",
      "4408               9                        7                     8  \n",
      "4409              21                        3                     9  \n",
      "\n",
      "[4410 rows x 24 columns]\n",
      "        Age  Attrition  BusinessTravel  Department  DistanceFromHome  \\\n",
      "0     False      False           False       False             False   \n",
      "1     False      False           False       False             False   \n",
      "2     False      False           False       False             False   \n",
      "3     False      False           False       False             False   \n",
      "4     False      False           False       False             False   \n",
      "...     ...        ...             ...         ...               ...   \n",
      "4405  False      False           False       False             False   \n",
      "4406  False      False           False       False             False   \n",
      "4407  False      False           False       False             False   \n",
      "4408  False      False           False       False             False   \n",
      "4409  False      False           False       False             False   \n",
      "\n",
      "      Education  EducationField  EmployeeCount  EmployeeID  Gender  ...  \\\n",
      "0         False           False          False       False   False  ...   \n",
      "1         False           False          False       False   False  ...   \n",
      "2         False           False          False       False   False  ...   \n",
      "3         False           False          False       False   False  ...   \n",
      "4         False           False          False       False   False  ...   \n",
      "...         ...             ...            ...         ...     ...  ...   \n",
      "4405      False           False          False       False   False  ...   \n",
      "4406      False           False          False       False   False  ...   \n",
      "4407      False           False          False       False   False  ...   \n",
      "4408      False           False          False       False   False  ...   \n",
      "4409      False           False          False       False   False  ...   \n",
      "\n",
      "      NumCompaniesWorked  Over18  PercentSalaryHike  StandardHours  \\\n",
      "0                  False   False              False          False   \n",
      "1                  False   False              False          False   \n",
      "2                  False   False              False          False   \n",
      "3                  False   False              False          False   \n",
      "4                  False   False              False          False   \n",
      "...                  ...     ...                ...            ...   \n",
      "4405               False   False              False          False   \n",
      "4406               False   False              False          False   \n",
      "4407               False   False              False          False   \n",
      "4408               False   False              False          False   \n",
      "4409               False   False              False          False   \n",
      "\n",
      "      StockOptionLevel  TotalWorkingYears  TrainingTimesLastYear  \\\n",
      "0                False              False                  False   \n",
      "1                False              False                  False   \n",
      "2                False              False                  False   \n",
      "3                False              False                  False   \n",
      "4                False              False                  False   \n",
      "...                ...                ...                    ...   \n",
      "4405             False              False                  False   \n",
      "4406             False              False                  False   \n",
      "4407             False              False                  False   \n",
      "4408             False              False                  False   \n",
      "4409             False               True                  False   \n",
      "\n",
      "      YearsAtCompany  YearsSinceLastPromotion  YearsWithCurrManager  \n",
      "0              False                    False                 False  \n",
      "1              False                    False                 False  \n",
      "2              False                    False                 False  \n",
      "3              False                    False                 False  \n",
      "4              False                    False                 False  \n",
      "...              ...                      ...                   ...  \n",
      "4405           False                    False                 False  \n",
      "4406           False                    False                 False  \n",
      "4407           False                    False                 False  \n",
      "4408           False                    False                 False  \n",
      "4409           False                    False                 False  \n",
      "\n",
      "[4410 rows x 24 columns]\n"
     ]
    }
   ],
   "source": [
    "import pandas as pd\n",
    "import numpy as np\n",
    "import matplotlib.pyplot as pt\n",
    "\n",
    "\n",
    "\n",
    "df1=pd.read_csv(\"E:\\day7\\general_data.csv\")\n",
    "\n",
    "print(df1)\n",
    "print(df1.isnull())\n"
   ]
  },
  {
   "cell_type": "code",
   "execution_count": 5,
   "metadata": {},
   "outputs": [
    {
     "data": {
      "text/plain": [
       "0       False\n",
       "1       False\n",
       "2       False\n",
       "3       False\n",
       "4       False\n",
       "        ...  \n",
       "4405    False\n",
       "4406    False\n",
       "4407    False\n",
       "4408    False\n",
       "4409    False\n",
       "Length: 4410, dtype: bool"
      ]
     },
     "execution_count": 5,
     "metadata": {},
     "output_type": "execute_result"
    }
   ],
   "source": [
    "df1.duplicated()"
   ]
  },
  {
   "cell_type": "code",
   "execution_count": 6,
   "metadata": {},
   "outputs": [
    {
     "data": {
      "text/plain": [
       "Index(['Age', 'Attrition', 'BusinessTravel', 'Department', 'DistanceFromHome',\n",
       "       'Education', 'EducationField', 'EmployeeCount', 'EmployeeID', 'Gender',\n",
       "       'JobLevel', 'JobRole', 'MaritalStatus', 'MonthlyIncome',\n",
       "       'NumCompaniesWorked', 'Over18', 'PercentSalaryHike', 'StandardHours',\n",
       "       'StockOptionLevel', 'TotalWorkingYears', 'TrainingTimesLastYear',\n",
       "       'YearsAtCompany', 'YearsSinceLastPromotion', 'YearsWithCurrManager'],\n",
       "      dtype='object')"
      ]
     },
     "execution_count": 6,
     "metadata": {},
     "output_type": "execute_result"
    }
   ],
   "source": [
    "df1.columns"
   ]
  },
  {
   "cell_type": "code",
   "execution_count": 10,
   "metadata": {},
   "outputs": [
    {
     "name": "stdout",
     "output_type": "stream",
     "text": [
      "               Age  DistanceFromHome    Education  MonthlyIncome  \\\n",
      "count  4410.000000       4410.000000  4410.000000    4410.000000   \n",
      "mean     36.923810          9.192517     2.912925   65029.312925   \n",
      "std       9.133301          8.105026     1.023933   47068.888559   \n",
      "min      18.000000          1.000000     1.000000   10090.000000   \n",
      "25%      30.000000          2.000000     2.000000   29110.000000   \n",
      "50%      36.000000          7.000000     3.000000   49190.000000   \n",
      "75%      43.000000         14.000000     4.000000   83800.000000   \n",
      "max      60.000000         29.000000     5.000000  199990.000000   \n",
      "\n",
      "       NumCompaniesWorked  PercentSalaryHike  TotalWorkingYears  \\\n",
      "count         4391.000000        4410.000000        4401.000000   \n",
      "mean             2.694830          15.209524          11.279936   \n",
      "std              2.498887           3.659108           7.782222   \n",
      "min              0.000000          11.000000           0.000000   \n",
      "25%              1.000000          12.000000           6.000000   \n",
      "50%              2.000000          14.000000          10.000000   \n",
      "75%              4.000000          18.000000          15.000000   \n",
      "max              9.000000          25.000000          40.000000   \n",
      "\n",
      "       TrainingTimesLastYear  YearsAtCompany  YearsSinceLastPromotion  \\\n",
      "count            4410.000000     4410.000000              4410.000000   \n",
      "mean                2.799320        7.008163                 2.187755   \n",
      "std                 1.288978        6.125135                 3.221699   \n",
      "min                 0.000000        0.000000                 0.000000   \n",
      "25%                 2.000000        3.000000                 0.000000   \n",
      "50%                 3.000000        5.000000                 1.000000   \n",
      "75%                 3.000000        9.000000                 3.000000   \n",
      "max                 6.000000       40.000000                15.000000   \n",
      "\n",
      "       YearsWithCurrManager  \n",
      "count           4410.000000  \n",
      "mean               4.123129  \n",
      "std                3.567327  \n",
      "min                0.000000  \n",
      "25%                2.000000  \n",
      "50%                3.000000  \n",
      "75%                7.000000  \n",
      "max               17.000000  \n"
     ]
    }
   ],
   "source": [
    "df2=df1[['Age', 'DistanceFromHome','Education', 'MonthlyIncome','NumCompaniesWorked', 'PercentSalaryHike',  'TotalWorkingYears', 'TrainingTimesLastYear',\n",
    "       'YearsAtCompany', 'YearsSinceLastPromotion', 'YearsWithCurrManager']].describe()\n",
    "\n",
    "print(df2)"
   ]
  },
  {
   "cell_type": "code",
   "execution_count": 11,
   "metadata": {},
   "outputs": [
    {
     "name": "stdout",
     "output_type": "stream",
     "text": [
      "Age                           36.0\n",
      "DistanceFromHome               7.0\n",
      "Education                      3.0\n",
      "MonthlyIncome              49190.0\n",
      "NumCompaniesWorked             2.0\n",
      "PercentSalaryHike             14.0\n",
      "TotalWorkingYears             10.0\n",
      "TrainingTimesLastYear          3.0\n",
      "YearsAtCompany                 5.0\n",
      "YearsSinceLastPromotion        1.0\n",
      "YearsWithCurrManager           3.0\n",
      "dtype: float64\n"
     ]
    }
   ],
   "source": [
    "df3=df1[['Age', 'DistanceFromHome','Education', 'MonthlyIncome','NumCompaniesWorked', 'PercentSalaryHike',  'TotalWorkingYears', 'TrainingTimesLastYear',\n",
    "       'YearsAtCompany', 'YearsSinceLastPromotion', 'YearsWithCurrManager']].median()\n",
    "\n",
    "print(df3)"
   ]
  },
  {
   "cell_type": "code",
   "execution_count": 13,
   "metadata": {},
   "outputs": [
    {
     "name": "stdout",
     "output_type": "stream",
     "text": [
      "   Age  DistanceFromHome  Education  MonthlyIncome  NumCompaniesWorked  \\\n",
      "0   35                 2          3          23420                 1.0   \n",
      "\n",
      "   PercentSalaryHike  TotalWorkingYears  TrainingTimesLastYear  \\\n",
      "0                 11               10.0                      2   \n",
      "\n",
      "   YearsAtCompany  YearsSinceLastPromotion  YearsWithCurrManager  \n",
      "0               5                        0                     2  \n"
     ]
    }
   ],
   "source": [
    "df4=df1[['Age', 'DistanceFromHome','Education', 'MonthlyIncome','NumCompaniesWorked', 'PercentSalaryHike',  'TotalWorkingYears', 'TrainingTimesLastYear',\n",
    "       'YearsAtCompany', 'YearsSinceLastPromotion', 'YearsWithCurrManager']].mode()\n",
    "\n",
    "print(df4)"
   ]
  },
  {
   "cell_type": "code",
   "execution_count": 14,
   "metadata": {},
   "outputs": [
    {
     "name": "stdout",
     "output_type": "stream",
     "text": [
      "Age                        8.341719e+01\n",
      "DistanceFromHome           6.569144e+01\n",
      "Education                  1.048438e+00\n",
      "MonthlyIncome              2.215480e+09\n",
      "NumCompaniesWorked         6.244436e+00\n",
      "PercentSalaryHike          1.338907e+01\n",
      "TotalWorkingYears          6.056298e+01\n",
      "TrainingTimesLastYear      1.661465e+00\n",
      "YearsAtCompany             3.751728e+01\n",
      "YearsSinceLastPromotion    1.037935e+01\n",
      "YearsWithCurrManager       1.272582e+01\n",
      "dtype: float64\n"
     ]
    }
   ],
   "source": [
    "df5=df1[['Age', 'DistanceFromHome','Education', 'MonthlyIncome','NumCompaniesWorked', 'PercentSalaryHike',  'TotalWorkingYears', 'TrainingTimesLastYear',\n",
    "       'YearsAtCompany', 'YearsSinceLastPromotion', 'YearsWithCurrManager']].var()\n",
    "\n",
    "print(df5)"
   ]
  },
  {
   "cell_type": "code",
   "execution_count": 16,
   "metadata": {},
   "outputs": [
    {
     "name": "stdout",
     "output_type": "stream",
     "text": [
      "Age                        0.413005\n",
      "DistanceFromHome           0.957466\n",
      "Education                 -0.289484\n",
      "MonthlyIncome              1.368884\n",
      "NumCompaniesWorked         1.026767\n",
      "PercentSalaryHike          0.820569\n",
      "TotalWorkingYears          1.116832\n",
      "TrainingTimesLastYear      0.552748\n",
      "YearsAtCompany             1.763328\n",
      "YearsSinceLastPromotion    1.982939\n",
      "YearsWithCurrManager       0.832884\n",
      "dtype: float64\n"
     ]
    }
   ],
   "source": [
    "df6=df1[['Age', 'DistanceFromHome','Education', 'MonthlyIncome','NumCompaniesWorked', 'PercentSalaryHike',  'TotalWorkingYears', 'TrainingTimesLastYear',\n",
    "       'YearsAtCompany', 'YearsSinceLastPromotion', 'YearsWithCurrManager']].skew()\n",
    "\n",
    "print(df6)"
   ]
  },
  {
   "cell_type": "code",
   "execution_count": 17,
   "metadata": {},
   "outputs": [
    {
     "name": "stdout",
     "output_type": "stream",
     "text": [
      "Age                       -0.405951\n",
      "DistanceFromHome          -0.227045\n",
      "Education                 -0.560569\n",
      "MonthlyIncome              1.000232\n",
      "NumCompaniesWorked         0.007287\n",
      "PercentSalaryHike         -0.302638\n",
      "TotalWorkingYears          0.912936\n",
      "TrainingTimesLastYear      0.491149\n",
      "YearsAtCompany             3.923864\n",
      "YearsSinceLastPromotion    3.601761\n",
      "YearsWithCurrManager       0.167949\n",
      "dtype: float64\n"
     ]
    }
   ],
   "source": [
    "df7=df1[['Age', 'DistanceFromHome','Education', 'MonthlyIncome','NumCompaniesWorked', 'PercentSalaryHike',  'TotalWorkingYears', 'TrainingTimesLastYear',\n",
    "       'YearsAtCompany', 'YearsSinceLastPromotion', 'YearsWithCurrManager']].kurt()\n",
    "\n",
    "print(df7)"
   ]
  },
  {
   "cell_type": "code",
   "execution_count": 18,
   "metadata": {},
   "outputs": [
    {
     "data": {
      "text/plain": [
       "Age                            9.133301\n",
       "DistanceFromHome               8.105026\n",
       "Education                      1.023933\n",
       "EmployeeCount                  0.000000\n",
       "EmployeeID                  1273.201673\n",
       "JobLevel                       1.106689\n",
       "MonthlyIncome              47068.888559\n",
       "NumCompaniesWorked             2.498887\n",
       "PercentSalaryHike              3.659108\n",
       "StandardHours                  0.000000\n",
       "StockOptionLevel               0.851883\n",
       "TotalWorkingYears              7.782222\n",
       "TrainingTimesLastYear          1.288978\n",
       "YearsAtCompany                 6.125135\n",
       "YearsSinceLastPromotion        3.221699\n",
       "YearsWithCurrManager           3.567327\n",
       "dtype: float64"
      ]
     },
     "execution_count": 18,
     "metadata": {},
     "output_type": "execute_result"
    }
   ],
   "source": [
    "df1.std()"
   ]
  },
  {
   "cell_type": "markdown",
   "metadata": {},
   "source": [
    "hypothesis\n",
    "\n",
    "1. from the above calculation, skewness - skewness of education is negative and all the other variables are positive skewness \n"
   ]
  },
  {
   "cell_type": "code",
   "execution_count": 10,
   "metadata": {},
   "outputs": [
    {
     "name": "stdout",
     "output_type": "stream",
     "text": [
      "{'whiskers': [<matplotlib.lines.Line2D object at 0x0CAA4C70>, <matplotlib.lines.Line2D object at 0x0CAB0250>], 'caps': [<matplotlib.lines.Line2D object at 0x0CAB04B0>, <matplotlib.lines.Line2D object at 0x0CAB0710>], 'boxes': [<matplotlib.lines.Line2D object at 0x0C9EF450>], 'medians': [<matplotlib.lines.Line2D object at 0x0CAB09D0>], 'fliers': [<matplotlib.lines.Line2D object at 0x0CAB0BF0>], 'means': []}\n"
     ]
    },
    {
     "data": {
      "image/png": "[encoded data removed]",
      "text/plain": [
       "<Figure size 432x288 with 1 Axes>"
      ]
     },
     "metadata": {
      "needs_background": "light"
     },
     "output_type": "display_data"
    }
   ],
   "source": [
    "import pandas as pd\n",
    "import numpy as np\n",
    "import matplotlib.pyplot as pt\n",
    "df1=pd.read_csv(\"E:\\day7\\general_data.csv\")\n",
    "\n",
    "print(pt.boxplot(df1.Education))\n"
   ]
  },
  {
   "cell_type": "code",
   "execution_count": 9,
   "metadata": {},
   "outputs": [
    {
     "name": "stdout",
     "output_type": "stream",
     "text": [
      "{'whiskers': [<matplotlib.lines.Line2D object at 0x0CA64BF0>, <matplotlib.lines.Line2D object at 0x0CA64E30>], 'caps': [<matplotlib.lines.Line2D object at 0x09CE9390>, <matplotlib.lines.Line2D object at 0x0CA6D310>], 'boxes': [<matplotlib.lines.Line2D object at 0x0C96D970>], 'medians': [<matplotlib.lines.Line2D object at 0x0CA6D5D0>], 'fliers': [<matplotlib.lines.Line2D object at 0x0CA6D7F0>], 'means': []}\n"
     ]
    },
    {
     "data": {
      "image/png": "[encoded data removed]",
      "text/plain": [
       "<Figure size 432x288 with 1 Axes>"
      ]
     },
     "metadata": {
      "needs_background": "light"
     },
     "output_type": "display_data"
    }
   ],
   "source": [
    "print(pt.boxplot(df1.MonthlyIncome))"
   ]
  },
  {
   "cell_type": "markdown",
   "metadata": {},
   "source": [
    "hypothesis \n",
    "\n",
    "2. attrition dosen't depend on age \n",
    "3. attrition rate dosen't depend on the gender\n",
    "4. attrition rate depends on monthly income of the year\n",
    "5. monthly income dosen't depend on martial status\n",
    "6. attrition rate depends on distance from home \n",
    "7. attrition rate depends on job level\n",
    "8. attrition rate depends on job role\n",
    "9. attrition rate depends on percent salary hike \n",
    "10. attrition rate depends on total working years \n",
    "\n",
    "\n"
   ]
  }
 ],
 "metadata": {
  "kernelspec": {
   "display_name": "Python 3",
   "language": "python",
   "name": "python3"
  },
  "language_info": {
   "codemirror_mode": {
    "name": "ipython",
    "version": 3
   },
   "file_extension": ".py",
   "mimetype": "text/x-python",
   "name": "python",
   "nbconvert_exporter": "python",
   "pygments_lexer": "ipython3",
   "version": "3.7.6"
  }
 },
 "nbformat": 4,
 "nbformat_minor": 4
}
