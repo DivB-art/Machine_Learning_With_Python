{
 "cells": [
  {
   "cell_type": "code",
   "execution_count": 55,
   "metadata": {},
   "outputs": [
    {
     "name": "stdout",
     "output_type": "stream",
     "text": [
      "26\n",
      "24\n",
      "5\n",
      "['what', 'we', 'think', 'we', 'become', 'we']\n",
      "we\n",
      "we\n",
      "we\n"
     ]
    },
    {
     "data": {
      "text/plain": [
       "'we'"
      ]
     },
     "execution_count": 55,
     "metadata": {},
     "output_type": "execute_result"
    }
   ],
   "source": [
    "#Question 1 \n",
    "\n",
    "str1=\"what we think we become we\"\n",
    "print(len(str1))\n",
    "print(str1.rfind(\"we\"))\n",
    "print(str1.find(\"we\"))\n",
    "\n",
    "\n",
    "\n",
    "\n",
    "#by converting str to list we can find the occurences of we \n",
    "a=str1.split(\" \")\n",
    "print(a)\n",
    "print(a[1])\n",
    "print(a[3])\n",
    "print(a[5])\n",
    "\n",
    "\n",
    "# by slicing each value \n",
    "b=str1[14]+str1[15]\n",
    "b"
   ]
  },
  {
   "cell_type": "code",
   "execution_count": 63,
   "metadata": {},
   "outputs": [
    {
     "name": "stdout",
     "output_type": "stream",
     "text": [
      "False\n",
      "True\n"
     ]
    }
   ],
   "source": [
    " # question 2\n",
    "    \n",
    "str5=\"PAUL\"\n",
    "\n",
    "print(str5.islower())\n",
    "print(str5.isupper())"
   ]
  },
  {
   "cell_type": "code",
   "execution_count": null,
   "metadata": {},
   "outputs": [],
   "source": []
  },
  {
   "cell_type": "code",
   "execution_count": null,
   "metadata": {},
   "outputs": [],
   "source": []
  },
  {
   "cell_type": "code",
   "execution_count": null,
   "metadata": {},
   "outputs": [],
   "source": []
  }
 ],
 "metadata": {
  "kernelspec": {
   "display_name": "Python 3",
   "language": "python",
   "name": "python3"
  },
  "language_info": {
   "codemirror_mode": {
    "name": "ipython",
    "version": 3
   },
   "file_extension": ".py",
   "mimetype": "text/x-python",
   "name": "python",
   "nbconvert_exporter": "python",
   "pygments_lexer": "ipython3",
   "version": "3.7.6"
  }
 },
 "nbformat": 4,
 "nbformat_minor": 4
}
